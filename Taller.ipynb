{
  "cells": [
    {
      "cell_type": "markdown",
      "metadata": {
        "id": "view-in-github",
        "colab_type": "text"
      },
      "source": [
        "<a href=\"https://colab.research.google.com/github/Jobernal10/Ingenieria-de-sistemas-1/blob/main/Taller.ipynb\" target=\"_parent\"><img src=\"https://colab.research.google.com/assets/colab-badge.svg\" alt=\"Open In Colab\"/></a>"
      ]
    },
    {
      "cell_type": "markdown",
      "metadata": {
        "collapsed": true,
        "id": "rD_AjB4mcZRT"
      },
      "source": [
        "# Ajuste de curvas"
      ]
    },
    {
      "cell_type": "markdown",
      "source": [
        "[![Open In Colab](https://colab.research.google.com/assets/colab-badge.svg)](https://colab.research.google.com/github/caramirezs/MetNum_POLI/blob/main/2.0_Ajuste_de_curvas.ipynb)"
      ],
      "metadata": {
        "collapsed": false,
        "id": "pNtWUbXMcZRU"
      }
    },
    {
      "cell_type": "markdown",
      "source": [
        "## Polinomio de interpolación de Lagrange"
      ],
      "metadata": {
        "collapsed": false,
        "id": "cP9bRQ0_cZRV"
      }
    },
    {
      "cell_type": "code",
      "execution_count": null,
      "outputs": [],
      "source": [
        "import numpy as np\n",
        "import sympy as sym\n",
        "import matplotlib.pyplot as plt\n"
      ],
      "metadata": {
        "id": "mXQpxJWqcZRV"
      }
    },
    {
      "cell_type": "code",
      "source": [
        "from math import *\n",
        "\n",
        "\n",
        "def LagrangePol(datos):\n",
        "    \"\"\"\n",
        "    Implementación del interpolador de Lagrange\n",
        "    Entradas:\n",
        "    datos -- lista de puntos (x, y) en el plano\n",
        "    Salida:\n",
        "    P -- función de interpolación\n",
        "    \"\"\"\n",
        "\n",
        "    def L(k, x):\n",
        "        \"\"\"Implementación funciones L_k(x)\"\"\"\n",
        "        # pol $L_k(x)=\\prod\\limits_{i \\neq k}\\frac{x-x_i}{x_k-x_i}$\n",
        "        out = 1\n",
        "        for i, p in enumerate(datos):\n",
        "            if i != k:\n",
        "                out *= (x - p[0])/(datos[k][0] - p[0])\n",
        "        return out\n",
        "\n",
        "    def P(x):\n",
        "        \"\"\"Implementación polinomio P(x)\"\"\"\n",
        "        # polinomio $P(x)=\\sum\\limits_{k}f(x_k)L_k(x)$\n",
        "        lag = 0\n",
        "        for k, p in enumerate(datos):\n",
        "            lag += p[1]*L(k, x)\n",
        "        return lag\n",
        "\n",
        "    return P\n",
        "datos=[(-4.5, -20.625), (-3.5, 14.625), (-2.5, 28.875), (-1.5, 28.125),\n",
        "(-0.5, 18.375), (0.5, 5.625), (1.5, -4.125), (2.5, -4.875), (3.5, 9.375), (4.5, 44.625)]\n",
        "1.\n",
        " "
      ],
      "metadata": {
        "colab": {
          "base_uri": "https://localhost:8080/"
        },
        "id": "s3v6wS5i7pKn",
        "outputId": "4cd362ac-5fff-4b11-f93d-97dd0d304ef3"
      },
      "execution_count": null,
      "outputs": [
        {
          "output_type": "execute_result",
          "data": {
            "text/plain": [
              "1.0"
            ]
          },
          "metadata": {},
          "execution_count": 147
        }
      ]
    },
    {
      "cell_type": "code",
      "execution_count": null,
      "outputs": [
        {
          "output_type": "error",
          "ename": "TypeError",
          "evalue": "ignored",
          "traceback": [
            "\u001b[0;31m---------------------------------------------------------------------------\u001b[0m",
            "\u001b[0;31mTypeError\u001b[0m                                 Traceback (most recent call last)",
            "\u001b[0;32m<ipython-input-148-f1b45e283a03>\u001b[0m in \u001b[0;36m<module>\u001b[0;34m\u001b[0m\n\u001b[0;32m----> 1\u001b[0;31m \u001b[0mxi\u001b[0m \u001b[0;34m=\u001b[0m \u001b[0mnp\u001b[0m\u001b[0;34m.\u001b[0m\u001b[0mlinspace\u001b[0m\u001b[0;34m(\u001b[0m\u001b[0mnp\u001b[0m\u001b[0;34m.\u001b[0m\u001b[0mmin\u001b[0m\u001b[0;34m(\u001b[0m\u001b[0mx\u001b[0m\u001b[0;34m)\u001b[0m\u001b[0;34m,\u001b[0m\u001b[0mnp\u001b[0m\u001b[0;34m.\u001b[0m\u001b[0mmax\u001b[0m\u001b[0;34m(\u001b[0m\u001b[0mx\u001b[0m\u001b[0;34m)\u001b[0m\u001b[0;34m,\u001b[0m\u001b[0;36m1001\u001b[0m\u001b[0;34m)\u001b[0m\u001b[0;34m\u001b[0m\u001b[0;34m\u001b[0m\u001b[0m\n\u001b[0m\u001b[1;32m      2\u001b[0m \u001b[0mplt\u001b[0m\u001b[0;34m.\u001b[0m\u001b[0mplot\u001b[0m\u001b[0;34m(\u001b[0m\u001b[0mx\u001b[0m\u001b[0;34m,\u001b[0m \u001b[0my\u001b[0m\u001b[0;34m,\u001b[0m\u001b[0;34m'ro'\u001b[0m\u001b[0;34m)\u001b[0m\u001b[0;34m\u001b[0m\u001b[0;34m\u001b[0m\u001b[0m\n\u001b[1;32m      3\u001b[0m \u001b[0mplt\u001b[0m\u001b[0;34m.\u001b[0m\u001b[0mplot\u001b[0m\u001b[0;34m(\u001b[0m\u001b[0mxi\u001b[0m\u001b[0;34m,\u001b[0m \u001b[0mLagrangePol\u001b[0m\u001b[0;34m(\u001b[0m\u001b[0mdatos\u001b[0m\u001b[0;34m)\u001b[0m\u001b[0;34m,\u001b[0m\u001b[0;34m'-'\u001b[0m\u001b[0;34m)\u001b[0m\u001b[0;34m\u001b[0m\u001b[0;34m\u001b[0m\u001b[0m\n\u001b[1;32m      4\u001b[0m \u001b[0mplt\u001b[0m\u001b[0;34m.\u001b[0m\u001b[0mshow\u001b[0m\u001b[0;34m(\u001b[0m\u001b[0;34m)\u001b[0m\u001b[0;34m\u001b[0m\u001b[0;34m\u001b[0m\u001b[0m\n",
            "\u001b[0;32m<__array_function__ internals>\u001b[0m in \u001b[0;36mlinspace\u001b[0;34m(*args, **kwargs)\u001b[0m\n",
            "\u001b[0;32m/usr/local/lib/python3.7/dist-packages/numpy/core/function_base.py\u001b[0m in \u001b[0;36mlinspace\u001b[0;34m(start, stop, num, endpoint, retstep, dtype, axis)\u001b[0m\n\u001b[1;32m    128\u001b[0m     \u001b[0mstop\u001b[0m  \u001b[0;34m=\u001b[0m \u001b[0masanyarray\u001b[0m\u001b[0;34m(\u001b[0m\u001b[0mstop\u001b[0m\u001b[0;34m)\u001b[0m  \u001b[0;34m*\u001b[0m \u001b[0;36m1.0\u001b[0m\u001b[0;34m\u001b[0m\u001b[0;34m\u001b[0m\u001b[0m\n\u001b[1;32m    129\u001b[0m \u001b[0;34m\u001b[0m\u001b[0m\n\u001b[0;32m--> 130\u001b[0;31m     \u001b[0mdt\u001b[0m \u001b[0;34m=\u001b[0m \u001b[0mresult_type\u001b[0m\u001b[0;34m(\u001b[0m\u001b[0mstart\u001b[0m\u001b[0;34m,\u001b[0m \u001b[0mstop\u001b[0m\u001b[0;34m,\u001b[0m \u001b[0mfloat\u001b[0m\u001b[0;34m(\u001b[0m\u001b[0mnum\u001b[0m\u001b[0;34m)\u001b[0m\u001b[0;34m)\u001b[0m\u001b[0;34m\u001b[0m\u001b[0;34m\u001b[0m\u001b[0m\n\u001b[0m\u001b[1;32m    131\u001b[0m     \u001b[0;32mif\u001b[0m \u001b[0mdtype\u001b[0m \u001b[0;32mis\u001b[0m \u001b[0;32mNone\u001b[0m\u001b[0;34m:\u001b[0m\u001b[0;34m\u001b[0m\u001b[0;34m\u001b[0m\u001b[0m\n\u001b[1;32m    132\u001b[0m         \u001b[0mdtype\u001b[0m \u001b[0;34m=\u001b[0m \u001b[0mdt\u001b[0m\u001b[0;34m\u001b[0m\u001b[0;34m\u001b[0m\u001b[0m\n",
            "\u001b[0;32m<__array_function__ internals>\u001b[0m in \u001b[0;36mresult_type\u001b[0;34m(*args, **kwargs)\u001b[0m\n",
            "\u001b[0;31mTypeError\u001b[0m: Cannot interpret '1.0*x' as a data type"
          ]
        }
      ],
      "source": [
        "xi = np.linspace(np.min(x),np.max(x),1001)\n",
        "plt.plot(x, y,'ro')\n",
        "plt.plot(xi, LagrangePol(datos),'-')\n",
        "plt.show()"
      ],
      "metadata": {
        "id": "L7Zr0bzLcZRV",
        "outputId": "df56c5c7-44a7-4c2e-c15d-13c05a6b7c47",
        "colab": {
          "base_uri": "https://localhost:8080/",
          "height": 408
        }
      }
    },
    {
      "cell_type": "code",
      "source": [
        "f= lambda x:1.30104260698261e-18*x**9 + 8.67361737988404e-19*x**8 - 5.55111512312578e-17*x**7 + 5.55111512312578e-17*x**6 + 3.33066907387547e-16*x**5 - 4.44089209850063e-16*x**4 + 0.999999999999997*x**3 - 13.0*x + 12.0\n",
        "plt.plot(xi,fi,'o', label = 'Puntos')\n",
        "plt.plot(pxi,pfi, label = 'Polinomio')\n",
        "plt.legend()\n",
        "plt.xlabel('xi')\n",
        "plt.ylabel('fi')\n",
        "plt.title('Interpolación Lagrange')\n",
        "plt.show()"
      ],
      "metadata": {
        "colab": {
          "base_uri": "https://localhost:8080/",
          "height": 1000
        },
        "id": "8VgGjIBY1-7n",
        "outputId": "37a47de5-8d2e-4664-f33c-c309f6ce5cb7"
      },
      "execution_count": null,
      "outputs": [
        {
          "output_type": "error",
          "ename": "ValueError",
          "evalue": "ignored",
          "traceback": [
            "\u001b[0;31m---------------------------------------------------------------------------\u001b[0m",
            "\u001b[0;31mValueError\u001b[0m                                Traceback (most recent call last)",
            "\u001b[0;32m<ipython-input-149-309a560e6e8e>\u001b[0m in \u001b[0;36m<module>\u001b[0;34m\u001b[0m\n\u001b[1;32m      1\u001b[0m \u001b[0mf\u001b[0m\u001b[0;34m=\u001b[0m \u001b[0;32mlambda\u001b[0m \u001b[0mx\u001b[0m\u001b[0;34m:\u001b[0m\u001b[0;36m1.30104260698261e-18\u001b[0m\u001b[0;34m*\u001b[0m\u001b[0mx\u001b[0m\u001b[0;34m**\u001b[0m\u001b[0;36m9\u001b[0m \u001b[0;34m+\u001b[0m \u001b[0;36m8.67361737988404e-19\u001b[0m\u001b[0;34m*\u001b[0m\u001b[0mx\u001b[0m\u001b[0;34m**\u001b[0m\u001b[0;36m8\u001b[0m \u001b[0;34m-\u001b[0m \u001b[0;36m5.55111512312578e-17\u001b[0m\u001b[0;34m*\u001b[0m\u001b[0mx\u001b[0m\u001b[0;34m**\u001b[0m\u001b[0;36m7\u001b[0m \u001b[0;34m+\u001b[0m \u001b[0;36m5.55111512312578e-17\u001b[0m\u001b[0;34m*\u001b[0m\u001b[0mx\u001b[0m\u001b[0;34m**\u001b[0m\u001b[0;36m6\u001b[0m \u001b[0;34m+\u001b[0m \u001b[0;36m3.33066907387547e-16\u001b[0m\u001b[0;34m*\u001b[0m\u001b[0mx\u001b[0m\u001b[0;34m**\u001b[0m\u001b[0;36m5\u001b[0m \u001b[0;34m-\u001b[0m \u001b[0;36m4.44089209850063e-16\u001b[0m\u001b[0;34m*\u001b[0m\u001b[0mx\u001b[0m\u001b[0;34m**\u001b[0m\u001b[0;36m4\u001b[0m \u001b[0;34m+\u001b[0m \u001b[0;36m0.999999999999997\u001b[0m\u001b[0;34m*\u001b[0m\u001b[0mx\u001b[0m\u001b[0;34m**\u001b[0m\u001b[0;36m3\u001b[0m \u001b[0;34m-\u001b[0m \u001b[0;36m13.0\u001b[0m\u001b[0;34m*\u001b[0m\u001b[0mx\u001b[0m \u001b[0;34m+\u001b[0m \u001b[0;36m12.0\u001b[0m\u001b[0;34m\u001b[0m\u001b[0;34m\u001b[0m\u001b[0m\n\u001b[0;32m----> 2\u001b[0;31m \u001b[0mplt\u001b[0m\u001b[0;34m.\u001b[0m\u001b[0mplot\u001b[0m\u001b[0;34m(\u001b[0m\u001b[0mxi\u001b[0m\u001b[0;34m,\u001b[0m\u001b[0mfi\u001b[0m\u001b[0;34m,\u001b[0m\u001b[0;34m'o'\u001b[0m\u001b[0;34m,\u001b[0m \u001b[0mlabel\u001b[0m \u001b[0;34m=\u001b[0m \u001b[0;34m'Puntos'\u001b[0m\u001b[0;34m)\u001b[0m\u001b[0;34m\u001b[0m\u001b[0;34m\u001b[0m\u001b[0m\n\u001b[0m\u001b[1;32m      3\u001b[0m \u001b[0mplt\u001b[0m\u001b[0;34m.\u001b[0m\u001b[0mplot\u001b[0m\u001b[0;34m(\u001b[0m\u001b[0mpxi\u001b[0m\u001b[0;34m,\u001b[0m\u001b[0mpfi\u001b[0m\u001b[0;34m,\u001b[0m \u001b[0mlabel\u001b[0m \u001b[0;34m=\u001b[0m \u001b[0;34m'Polinomio'\u001b[0m\u001b[0;34m)\u001b[0m\u001b[0;34m\u001b[0m\u001b[0;34m\u001b[0m\u001b[0m\n\u001b[1;32m      4\u001b[0m \u001b[0mplt\u001b[0m\u001b[0;34m.\u001b[0m\u001b[0mlegend\u001b[0m\u001b[0;34m(\u001b[0m\u001b[0;34m)\u001b[0m\u001b[0;34m\u001b[0m\u001b[0;34m\u001b[0m\u001b[0m\n\u001b[1;32m      5\u001b[0m \u001b[0mplt\u001b[0m\u001b[0;34m.\u001b[0m\u001b[0mxlabel\u001b[0m\u001b[0;34m(\u001b[0m\u001b[0;34m'xi'\u001b[0m\u001b[0;34m)\u001b[0m\u001b[0;34m\u001b[0m\u001b[0;34m\u001b[0m\u001b[0m\n",
            "\u001b[0;32m/usr/local/lib/python3.7/dist-packages/matplotlib/pyplot.py\u001b[0m in \u001b[0;36mplot\u001b[0;34m(scalex, scaley, data, *args, **kwargs)\u001b[0m\n\u001b[1;32m   2761\u001b[0m     return gca().plot(\n\u001b[1;32m   2762\u001b[0m         *args, scalex=scalex, scaley=scaley, **({\"data\": data} if data\n\u001b[0;32m-> 2763\u001b[0;31m         is not None else {}), **kwargs)\n\u001b[0m\u001b[1;32m   2764\u001b[0m \u001b[0;34m\u001b[0m\u001b[0m\n\u001b[1;32m   2765\u001b[0m \u001b[0;34m\u001b[0m\u001b[0m\n",
            "\u001b[0;32m/usr/local/lib/python3.7/dist-packages/matplotlib/axes/_axes.py\u001b[0m in \u001b[0;36mplot\u001b[0;34m(self, scalex, scaley, data, *args, **kwargs)\u001b[0m\n\u001b[1;32m   1645\u001b[0m         \"\"\"\n\u001b[1;32m   1646\u001b[0m         \u001b[0mkwargs\u001b[0m \u001b[0;34m=\u001b[0m \u001b[0mcbook\u001b[0m\u001b[0;34m.\u001b[0m\u001b[0mnormalize_kwargs\u001b[0m\u001b[0;34m(\u001b[0m\u001b[0mkwargs\u001b[0m\u001b[0;34m,\u001b[0m \u001b[0mmlines\u001b[0m\u001b[0;34m.\u001b[0m\u001b[0mLine2D\u001b[0m\u001b[0;34m)\u001b[0m\u001b[0;34m\u001b[0m\u001b[0;34m\u001b[0m\u001b[0m\n\u001b[0;32m-> 1647\u001b[0;31m         \u001b[0mlines\u001b[0m \u001b[0;34m=\u001b[0m \u001b[0;34m[\u001b[0m\u001b[0;34m*\u001b[0m\u001b[0mself\u001b[0m\u001b[0;34m.\u001b[0m\u001b[0m_get_lines\u001b[0m\u001b[0;34m(\u001b[0m\u001b[0;34m*\u001b[0m\u001b[0margs\u001b[0m\u001b[0;34m,\u001b[0m \u001b[0mdata\u001b[0m\u001b[0;34m=\u001b[0m\u001b[0mdata\u001b[0m\u001b[0;34m,\u001b[0m \u001b[0;34m**\u001b[0m\u001b[0mkwargs\u001b[0m\u001b[0;34m)\u001b[0m\u001b[0;34m]\u001b[0m\u001b[0;34m\u001b[0m\u001b[0;34m\u001b[0m\u001b[0m\n\u001b[0m\u001b[1;32m   1648\u001b[0m         \u001b[0;32mfor\u001b[0m \u001b[0mline\u001b[0m \u001b[0;32min\u001b[0m \u001b[0mlines\u001b[0m\u001b[0;34m:\u001b[0m\u001b[0;34m\u001b[0m\u001b[0;34m\u001b[0m\u001b[0m\n\u001b[1;32m   1649\u001b[0m             \u001b[0mself\u001b[0m\u001b[0;34m.\u001b[0m\u001b[0madd_line\u001b[0m\u001b[0;34m(\u001b[0m\u001b[0mline\u001b[0m\u001b[0;34m)\u001b[0m\u001b[0;34m\u001b[0m\u001b[0;34m\u001b[0m\u001b[0m\n",
            "\u001b[0;32m/usr/local/lib/python3.7/dist-packages/matplotlib/axes/_base.py\u001b[0m in \u001b[0;36m__call__\u001b[0;34m(self, *args, **kwargs)\u001b[0m\n\u001b[1;32m    214\u001b[0m                 \u001b[0mthis\u001b[0m \u001b[0;34m+=\u001b[0m \u001b[0margs\u001b[0m\u001b[0;34m[\u001b[0m\u001b[0;36m0\u001b[0m\u001b[0;34m]\u001b[0m\u001b[0;34m,\u001b[0m\u001b[0;34m\u001b[0m\u001b[0;34m\u001b[0m\u001b[0m\n\u001b[1;32m    215\u001b[0m                 \u001b[0margs\u001b[0m \u001b[0;34m=\u001b[0m \u001b[0margs\u001b[0m\u001b[0;34m[\u001b[0m\u001b[0;36m1\u001b[0m\u001b[0;34m:\u001b[0m\u001b[0;34m]\u001b[0m\u001b[0;34m\u001b[0m\u001b[0;34m\u001b[0m\u001b[0m\n\u001b[0;32m--> 216\u001b[0;31m             \u001b[0;32myield\u001b[0m \u001b[0;32mfrom\u001b[0m \u001b[0mself\u001b[0m\u001b[0;34m.\u001b[0m\u001b[0m_plot_args\u001b[0m\u001b[0;34m(\u001b[0m\u001b[0mthis\u001b[0m\u001b[0;34m,\u001b[0m \u001b[0mkwargs\u001b[0m\u001b[0;34m)\u001b[0m\u001b[0;34m\u001b[0m\u001b[0;34m\u001b[0m\u001b[0m\n\u001b[0m\u001b[1;32m    217\u001b[0m \u001b[0;34m\u001b[0m\u001b[0m\n\u001b[1;32m    218\u001b[0m     \u001b[0;32mdef\u001b[0m \u001b[0mget_next_color\u001b[0m\u001b[0;34m(\u001b[0m\u001b[0mself\u001b[0m\u001b[0;34m)\u001b[0m\u001b[0;34m:\u001b[0m\u001b[0;34m\u001b[0m\u001b[0;34m\u001b[0m\u001b[0m\n",
            "\u001b[0;32m/usr/local/lib/python3.7/dist-packages/matplotlib/axes/_base.py\u001b[0m in \u001b[0;36m_plot_args\u001b[0;34m(self, tup, kwargs)\u001b[0m\n\u001b[1;32m    340\u001b[0m \u001b[0;34m\u001b[0m\u001b[0m\n\u001b[1;32m    341\u001b[0m         \u001b[0;32mif\u001b[0m \u001b[0mx\u001b[0m\u001b[0;34m.\u001b[0m\u001b[0mshape\u001b[0m\u001b[0;34m[\u001b[0m\u001b[0;36m0\u001b[0m\u001b[0;34m]\u001b[0m \u001b[0;34m!=\u001b[0m \u001b[0my\u001b[0m\u001b[0;34m.\u001b[0m\u001b[0mshape\u001b[0m\u001b[0;34m[\u001b[0m\u001b[0;36m0\u001b[0m\u001b[0;34m]\u001b[0m\u001b[0;34m:\u001b[0m\u001b[0;34m\u001b[0m\u001b[0;34m\u001b[0m\u001b[0m\n\u001b[0;32m--> 342\u001b[0;31m             raise ValueError(f\"x and y must have same first dimension, but \"\n\u001b[0m\u001b[1;32m    343\u001b[0m                              f\"have shapes {x.shape} and {y.shape}\")\n\u001b[1;32m    344\u001b[0m         \u001b[0;32mif\u001b[0m \u001b[0mx\u001b[0m\u001b[0;34m.\u001b[0m\u001b[0mndim\u001b[0m \u001b[0;34m>\u001b[0m \u001b[0;36m2\u001b[0m \u001b[0;32mor\u001b[0m \u001b[0my\u001b[0m\u001b[0;34m.\u001b[0m\u001b[0mndim\u001b[0m \u001b[0;34m>\u001b[0m \u001b[0;36m2\u001b[0m\u001b[0;34m:\u001b[0m\u001b[0;34m\u001b[0m\u001b[0;34m\u001b[0m\u001b[0m\n",
            "\u001b[0;31mValueError\u001b[0m: x and y must have same first dimension, but have shapes (10, 2) and (11,)"
          ]
        },
        {
          "output_type": "display_data",
          "data": {
            "text/plain": [
              "<Figure size 1000x800 with 1 Axes>"
            ],
            "image/png": "[encoded data removed]"
          },
          "metadata": {
            "needs_background": "light"
          }
        }
      ]
    },
    {
      "cell_type": "markdown",
      "source": [
        "# Método de Newton"
      ],
      "metadata": {
        "collapsed": false,
        "id": "jp_s4w9icZRW"
      }
    },
    {
      "cell_type": "code",
      "execution_count": null,
      "outputs": [],
      "source": [
        "from math import *\n",
        "from pprint import pprint\n",
        "\n",
        "\n",
        "def NewtonPol(dat):\n",
        "    \"\"\"\n",
        "    Implementación del interpolador de Newton\n",
        "    Entradas:\n",
        "    dat -- lista de puntos (x, y) en el plano\n",
        "\n",
        "    Salidas:\n",
        "    F -- tabla de diferencias divididas\n",
        "    P -- función de interpolación\n",
        "    \"\"\"\n",
        "    n = len(dat)-1\n",
        "    F = [[0 for x in dat] for x in dat]  # crear tabla nula\n",
        "\n",
        "    for i, p in enumerate(dat):  # condiciones iniciales\n",
        "        F[i][0] = p[1]\n",
        "\n",
        "    for i in range(1, n+1):  # tabla de diferencias divididas\n",
        "        for j in range(1, i+1):\n",
        "            F[i][j] = (F[i][j-1]-F[i-1][j-1])/(dat[i][0]-dat[i-j][0])\n",
        "\n",
        "    def L(k, x):\n",
        "        \"\"\"Implementación funciones L_k(x)\"\"\"\n",
        "        # polinomio $L_k(x)=\\prod\\limits_{i \\leq k}(x-x_i)$\n",
        "        out = 1\n",
        "        for i, p in enumerate(dat):\n",
        "            if i <= k:\n",
        "                out *= (x - p[0])\n",
        "        return out\n",
        "\n",
        "    def P(x):\n",
        "        \"\"\"Implementación polinomio P(x)\"\"\"\n",
        "        # $P(x)=f[x_0]+\\sum_{k=1}^{n}f[x_0,x_1,\\ldots,x_k]L_{k-1}(x)$\n",
        "        newt = 0\n",
        "        for i in range(1, n+1):\n",
        "            newt += F[i][i]*L(i-1, x)\n",
        "        return newt + F[0][0]\n",
        "\n",
        "    return F, P\n",
        "\n"
      ],
      "metadata": {
        "id": "ElcML9P5cZRW"
      }
    },
    {
      "cell_type": "code",
      "execution_count": null,
      "outputs": [
        {
          "output_type": "stream",
          "name": "stdout",
          "text": [
            "Tabla de diferencias divididas:\n",
            "[[-20.625, 0, 0, 0, 0, 0, 0, 0, 0, 0],\n",
            " [14.625, 35.25, 0, 0, 0, 0, 0, 0, 0, 0],\n",
            " [28.875, 14.25, -10.5, 0, 0, 0, 0, 0, 0, 0],\n",
            " [28.125, -0.75, -7.5, 1.0, 0, 0, 0, 0, 0, 0],\n",
            " [18.375, -9.75, -4.5, 1.0, 0.0, 0, 0, 0, 0, 0],\n",
            " [5.625, -12.75, -1.5, 1.0, 0.0, 0.0, 0, 0, 0, 0],\n",
            " [-4.125, -9.75, 1.5, 1.0, 0.0, 0.0, 0.0, 0, 0, 0],\n",
            " [-4.875, -0.75, 4.5, 1.0, 0.0, 0.0, 0.0, 0.0, 0, 0],\n",
            " [9.375, 14.25, 7.5, 1.0, 0.0, 0.0, 0.0, 0.0, 0.0, 0],\n",
            " [44.625, 35.25, 10.5, 1.0, 0.0, 0.0, 0.0, 0.0, 0.0, 0.0]]\n",
            "Evaluar el polinomio en x = 0:\n"
          ]
        }
      ],
      "source": [
        "import numpy as np\n",
        "datost = [(-4.5,-20.625), (-3.5, 14.625), (-2.5, 28.875), (-1.5, 28.125), (-0.5, 18.375), (0.5, 5.625), (1.5, -4.125), (2.5, -4.875), (3.5, 9.375), (4.5, 44.625)]\n",
        "T, P = NewtonPol(datost)\n",
        "print(\"Tabla de diferencias divididas:\")\n",
        "pprint(T)\n",
        "print(\"Evaluar el polinomio en x = 0:\")\n"
      ],
      "metadata": {
        "id": "NoyOMA46cZRX",
        "outputId": "f7657bff-afb7-49c8-d577-49962d50e423",
        "colab": {
          "base_uri": "https://localhost:8080/"
        }
      }
    },
    {
      "cell_type": "code",
      "execution_count": null,
      "outputs": [
        {
          "output_type": "execute_result",
          "data": {
            "text/plain": [
              "-0.4651875477669165"
            ]
          },
          "metadata": {},
          "execution_count": 123
        }
      ],
      "source": [
        "P(np.pi/3)"
      ],
      "metadata": {
        "id": "gVkaHQ2NcZRX",
        "outputId": "69547cfd-165c-490f-9c44-7293be942f2c",
        "colab": {
          "base_uri": "https://localhost:8080/"
        }
      }
    },
    {
      "cell_type": "code",
      "execution_count": null,
      "outputs": [
        {
          "output_type": "execute_result",
          "data": {
            "text/plain": [
              "0.8660254037844386"
            ]
          },
          "metadata": {},
          "execution_count": 124
        }
      ],
      "source": [
        "np.sin(np.pi/3)"
      ],
      "metadata": {
        "id": "inwaIlxacZRX",
        "outputId": "85de997b-3dc1-4ba2-e4f0-5868b779185d",
        "colab": {
          "base_uri": "https://localhost:8080/"
        }
      }
    },
    {
      "cell_type": "code",
      "execution_count": null,
      "outputs": [
        {
          "output_type": "error",
          "ename": "TypeError",
          "evalue": "ignored",
          "traceback": [
            "\u001b[0;31m---------------------------------------------------------------------------\u001b[0m",
            "\u001b[0;31mTypeError\u001b[0m                                 Traceback (most recent call last)",
            "\u001b[0;32m<ipython-input-150-2111eb6bb9ba>\u001b[0m in \u001b[0;36m<module>\u001b[0;34m\u001b[0m\n\u001b[1;32m      4\u001b[0m \u001b[0mpfi\u001b[0m \u001b[0;34m=\u001b[0m \u001b[0mP\u001b[0m\u001b[0;34m(\u001b[0m\u001b[0mpxi\u001b[0m\u001b[0;34m)\u001b[0m\u001b[0;34m\u001b[0m\u001b[0;34m\u001b[0m\u001b[0m\n\u001b[1;32m      5\u001b[0m \u001b[0mxi\u001b[0m \u001b[0;34m=\u001b[0m \u001b[0;34m[\u001b[0m\u001b[0;34m-\u001b[0m\u001b[0mnp\u001b[0m\u001b[0;34m.\u001b[0m\u001b[0mpi\u001b[0m\u001b[0;34m/\u001b[0m\u001b[0;36m2\u001b[0m\u001b[0;34m,\u001b[0m \u001b[0mnp\u001b[0m\u001b[0;34m.\u001b[0m\u001b[0mpi\u001b[0m\u001b[0;34m/\u001b[0m\u001b[0;36m6\u001b[0m\u001b[0;34m,\u001b[0m \u001b[0mnp\u001b[0m\u001b[0;34m.\u001b[0m\u001b[0mpi\u001b[0m\u001b[0;34m/\u001b[0m\u001b[0;36m4\u001b[0m\u001b[0;34m,\u001b[0m \u001b[0mnp\u001b[0m\u001b[0;34m.\u001b[0m\u001b[0mpi\u001b[0m\u001b[0;34m/\u001b[0m\u001b[0;36m2\u001b[0m\u001b[0;34m]\u001b[0m\u001b[0;34m\u001b[0m\u001b[0;34m\u001b[0m\u001b[0m\n\u001b[0;32m----> 6\u001b[0;31m \u001b[0mfi\u001b[0m \u001b[0;34m=\u001b[0m \u001b[0mf\u001b[0m\u001b[0;34m(\u001b[0m\u001b[0mxi\u001b[0m\u001b[0;34m)\u001b[0m\u001b[0;34m\u001b[0m\u001b[0;34m\u001b[0m\u001b[0m\n\u001b[0m\u001b[1;32m      7\u001b[0m \u001b[0mplt\u001b[0m\u001b[0;34m.\u001b[0m\u001b[0mplot\u001b[0m\u001b[0;34m(\u001b[0m\u001b[0mxi\u001b[0m\u001b[0;34m,\u001b[0m\u001b[0mfi\u001b[0m\u001b[0;34m,\u001b[0m\u001b[0;34m'o'\u001b[0m\u001b[0;34m,\u001b[0m \u001b[0mlabel\u001b[0m \u001b[0;34m=\u001b[0m \u001b[0;34m'Puntos'\u001b[0m\u001b[0;34m)\u001b[0m\u001b[0;34m\u001b[0m\u001b[0;34m\u001b[0m\u001b[0m\n\u001b[1;32m      8\u001b[0m \u001b[0mplt\u001b[0m\u001b[0;34m.\u001b[0m\u001b[0mplot\u001b[0m\u001b[0;34m(\u001b[0m\u001b[0mpxi\u001b[0m\u001b[0;34m,\u001b[0m\u001b[0mpfi\u001b[0m \u001b[0;34m,\u001b[0m \u001b[0mlabel\u001b[0m \u001b[0;34m=\u001b[0m \u001b[0;34m'Polinomio'\u001b[0m\u001b[0;34m)\u001b[0m\u001b[0;34m\u001b[0m\u001b[0;34m\u001b[0m\u001b[0m\n",
            "\u001b[0;32m<ipython-input-150-2111eb6bb9ba>\u001b[0m in \u001b[0;36m<lambda>\u001b[0;34m(x)\u001b[0m\n\u001b[1;32m      1\u001b[0m \u001b[0;31m# Gráfica\u001b[0m\u001b[0;34m\u001b[0m\u001b[0;34m\u001b[0m\u001b[0;34m\u001b[0m\u001b[0m\n\u001b[0;32m----> 2\u001b[0;31m \u001b[0mf\u001b[0m \u001b[0;34m=\u001b[0m \u001b[0;32mlambda\u001b[0m \u001b[0mx\u001b[0m\u001b[0;34m:\u001b[0m \u001b[0;36m1.30104260698261e-18\u001b[0m\u001b[0;34m*\u001b[0m\u001b[0mx\u001b[0m\u001b[0;34m**\u001b[0m\u001b[0;36m9\u001b[0m \u001b[0;34m+\u001b[0m \u001b[0;36m8.67361737988404e-19\u001b[0m\u001b[0;34m*\u001b[0m\u001b[0mx\u001b[0m\u001b[0;34m**\u001b[0m\u001b[0;36m8\u001b[0m \u001b[0;34m-\u001b[0m \u001b[0;36m5.55111512312578e-17\u001b[0m\u001b[0;34m*\u001b[0m\u001b[0mx\u001b[0m\u001b[0;34m**\u001b[0m\u001b[0;36m7\u001b[0m \u001b[0;34m+\u001b[0m \u001b[0;36m5.55111512312578e-17\u001b[0m\u001b[0;34m*\u001b[0m\u001b[0mx\u001b[0m\u001b[0;34m**\u001b[0m\u001b[0;36m6\u001b[0m \u001b[0;34m+\u001b[0m \u001b[0;36m3.33066907387547e-16\u001b[0m\u001b[0;34m*\u001b[0m\u001b[0mx\u001b[0m\u001b[0;34m**\u001b[0m\u001b[0;36m5\u001b[0m \u001b[0;34m-\u001b[0m \u001b[0;36m4.44089209850063e-16\u001b[0m\u001b[0;34m*\u001b[0m\u001b[0mx\u001b[0m\u001b[0;34m**\u001b[0m\u001b[0;36m4\u001b[0m \u001b[0;34m+\u001b[0m \u001b[0;36m0.999999999999997\u001b[0m\u001b[0;34m*\u001b[0m\u001b[0mx\u001b[0m\u001b[0;34m**\u001b[0m\u001b[0;36m3\u001b[0m \u001b[0;34m-\u001b[0m \u001b[0;36m13.0\u001b[0m\u001b[0;34m*\u001b[0m\u001b[0mx\u001b[0m \u001b[0;34m+\u001b[0m \u001b[0;36m12.0\u001b[0m\u001b[0;34m\u001b[0m\u001b[0;34m\u001b[0m\u001b[0m\n\u001b[0m\u001b[1;32m      3\u001b[0m \u001b[0mpxi\u001b[0m \u001b[0;34m=\u001b[0m \u001b[0mnp\u001b[0m\u001b[0;34m.\u001b[0m\u001b[0mlinspace\u001b[0m\u001b[0;34m(\u001b[0m\u001b[0;34m-\u001b[0m\u001b[0mnp\u001b[0m\u001b[0;34m.\u001b[0m\u001b[0mpi\u001b[0m\u001b[0;34m,\u001b[0m\u001b[0mnp\u001b[0m\u001b[0;34m.\u001b[0m\u001b[0mpi\u001b[0m\u001b[0;34m,\u001b[0m\u001b[0;36m100000\u001b[0m\u001b[0;34m)\u001b[0m\u001b[0;34m\u001b[0m\u001b[0;34m\u001b[0m\u001b[0m\n\u001b[1;32m      4\u001b[0m \u001b[0mpfi\u001b[0m \u001b[0;34m=\u001b[0m \u001b[0mP\u001b[0m\u001b[0;34m(\u001b[0m\u001b[0mpxi\u001b[0m\u001b[0;34m)\u001b[0m\u001b[0;34m\u001b[0m\u001b[0;34m\u001b[0m\u001b[0m\n\u001b[1;32m      5\u001b[0m \u001b[0mxi\u001b[0m \u001b[0;34m=\u001b[0m \u001b[0;34m[\u001b[0m\u001b[0;34m-\u001b[0m\u001b[0mnp\u001b[0m\u001b[0;34m.\u001b[0m\u001b[0mpi\u001b[0m\u001b[0;34m/\u001b[0m\u001b[0;36m2\u001b[0m\u001b[0;34m,\u001b[0m \u001b[0mnp\u001b[0m\u001b[0;34m.\u001b[0m\u001b[0mpi\u001b[0m\u001b[0;34m/\u001b[0m\u001b[0;36m6\u001b[0m\u001b[0;34m,\u001b[0m \u001b[0mnp\u001b[0m\u001b[0;34m.\u001b[0m\u001b[0mpi\u001b[0m\u001b[0;34m/\u001b[0m\u001b[0;36m4\u001b[0m\u001b[0;34m,\u001b[0m \u001b[0mnp\u001b[0m\u001b[0;34m.\u001b[0m\u001b[0mpi\u001b[0m\u001b[0;34m/\u001b[0m\u001b[0;36m2\u001b[0m\u001b[0;34m]\u001b[0m\u001b[0;34m\u001b[0m\u001b[0;34m\u001b[0m\u001b[0m\n",
            "\u001b[0;31mTypeError\u001b[0m: unsupported operand type(s) for ** or pow(): 'list' and 'int'"
          ]
        }
      ],
      "source": [
        "# Gráfica\n",
        "f = lambda x: 1.30104260698261e-18*x**9 + 8.67361737988404e-19*x**8 - 5.55111512312578e-17*x**7 + 5.55111512312578e-17*x**6 + 3.33066907387547e-16*x**5 - 4.44089209850063e-16*x**4 + 0.999999999999997*x**3 - 13.0*x + 12.0\n",
        "pxi = np.linspace(-np.pi,np.pi,100000)\n",
        "pfi = P(pxi)\n",
        "xi = [-np.pi/2, np.pi/6, np.pi/4, np.pi/2]\n",
        "fi = f(xi)\n",
        "plt.plot(xi,fi,'o', label = 'Puntos')\n",
        "plt.plot(pxi,pfi , label = 'Polinomio')\n",
        "plt.plot(pxi,f(pxi) , label = 'función')\n",
        "plt.legend()\n",
        "plt.xlabel('xi')\n",
        "plt.ylabel('fi')\n",
        "plt.title('Interpolación Lagrange')\n",
        "plt.show()"
      ],
      "metadata": {
        "id": "IldT2AyscZRX",
        "outputId": "87b7a50c-5ad9-4652-d044-ba204c59e981",
        "colab": {
          "base_uri": "https://localhost:8080/",
          "height": 373
        }
      }
    },
    {
      "cell_type": "markdown",
      "source": [
        "# Regresón Polinomial"
      ],
      "metadata": {
        "collapsed": false,
        "id": "XnfX3U3ncZRX"
      }
    },
    {
      "cell_type": "code",
      "execution_count": null,
      "outputs": [],
      "source": [
        "import random\n",
        "a_0, a_1, a_2 = 10, 6, -3\n",
        "f = lambda x: a_0 + a_1*x + a_2*(x)**2\n",
        "def f_cuadrada(x):\n",
        "    noise = random.randrange(-100, 100, 1)/10\n",
        "    return a_0 + a_1*x + a_2*(x**2) + noise"
      ],
      "metadata": {
        "id": "kJKWyteZcZRY"
      }
    },
    {
      "cell_type": "code",
      "execution_count": null,
      "outputs": [
        {
          "name": "stdout",
          "output_type": "stream",
          "text": [
            "[-5.    -4.999 -4.998 ...  4.998  4.999  5.   ]\n",
            "[-96.1, -73.35, -58.0, -54.65, -26.2, -14.35, -15.1, -5.65, 4.4, 11.85, 13.0, 3.65, 11.6, 5.35, 11.8, 6.65, 8.6, -15.35, -5.4, -25.75, -27.3]\n"
          ]
        },
        {
          "data": {
            "text/plain": "<Figure size 432x288 with 1 Axes>",
            "image/png": "[encoded data removed]"
          },
          "metadata": {
            "needs_background": "light"
          },
          "output_type": "display_data"
        }
      ],
      "source": [
        "x = np.linspace(-5,5,21)\n",
        "xi = np.linspace(-5,5,10001)\n",
        "images = list()\n",
        "for i in x:\n",
        "    images.append(round(f_cuadrada(i),2))\n",
        "x = np.array(x)\n",
        "y = np.array(images)\n",
        "print(xi)\n",
        "print(images)\n",
        "plt.plot(x, images,'o')\n",
        "#plt.plot(xi, f(xi),'-')\n",
        "plt.show()"
      ],
      "metadata": {
        "id": "eX0Zj6BlcZRY",
        "outputId": "3692c3d1-436a-4a09-d65e-fc0086b257e7"
      }
    },
    {
      "cell_type": "code",
      "execution_count": null,
      "outputs": [
        {
          "name": "stdout",
          "output_type": "stream",
          "text": [
            "0.0 192.5 0.0 3166.625\n",
            "-340.29999999999995 1136.45 -7164.2\n"
          ]
        }
      ],
      "source": [
        "sum_xi = np.sum(x)\n",
        "sum_xi_2 = np.sum(x**2)\n",
        "sum_xi_3 = np.sum(x**3)\n",
        "sum_xi_4 = np.sum(x**4)\n",
        "sum_yi = np.sum(y)\n",
        "sum_xiyi = np.sum(x*y)\n",
        "sum_xi_2yi = np.sum(x**2*y)\n",
        "print(sum_xi, sum_xi_2, sum_xi_3, sum_xi_4)\n",
        "print(sum_yi, sum_xiyi, sum_xi_2yi)"
      ],
      "metadata": {
        "id": "XNfml-cbcZRY",
        "outputId": "9766a96f-f23d-45c7-eab0-7fc0d8b96695"
      }
    },
    {
      "cell_type": "code",
      "execution_count": null,
      "outputs": [
        {
          "name": "stdout",
          "output_type": "stream",
          "text": [
            "[-2.88492377  5.90363636 10.24037267]\n"
          ]
        }
      ],
      "source": [
        "a = np.array([[sum_xi_4, sum_xi_3, sum_xi_2],\n",
        "              [sum_xi_3, sum_xi_2, sum_xi],\n",
        "              [sum_xi_2, sum_xi, len(x)]])\n",
        "b = np.array([sum_xi_2yi, sum_xiyi ,sum_yi])\n",
        "solve = np.linalg.solve(a, b)\n",
        "print(solve)"
      ],
      "metadata": {
        "id": "Kh1Gm6j3cZRY",
        "outputId": "5c376fad-eb3c-4404-9486-a8a089ca89c2"
      }
    },
    {
      "cell_type": "code",
      "execution_count": null,
      "outputs": [
        {
          "data": {
            "text/plain": "<Figure size 432x288 with 1 Axes>",
            "image/png": "[encoded data removed]"
          },
          "metadata": {
            "needs_background": "light"
          },
          "output_type": "display_data"
        }
      ],
      "source": [
        "g = lambda x: solve[0]*x**2 + solve[1]*x + solve[2]\n",
        "plt.plot(x, images,'o')\n",
        "plt.plot(xi, f(xi),'-')\n",
        "plt.plot(xi, g(xi),'-')\n",
        "plt.show()"
      ],
      "metadata": {
        "id": "JreY2n8ScZRY",
        "outputId": "b44362c1-748c-4aa9-9178-9bf13aa8ab70"
      }
    },
    {
      "cell_type": "code",
      "execution_count": null,
      "outputs": [],
      "source": [
        "import random\n",
        "a_0, a_1 = 7, 0.323\n",
        "f = lambda x: a_0*np.exp(a_1*x)\n",
        "def f_noise(x):\n",
        "    noise = random.randrange(-500, 500, 1)/200\n",
        "    return a_0*np.exp(a_1*x) + noise"
      ],
      "metadata": {
        "id": "avUgR3W4cZRY"
      }
    },
    {
      "cell_type": "code",
      "execution_count": null,
      "outputs": [],
      "source": [
        "x = np.linspace(0,5,21)\n",
        "xi = np.linspace(np.min(x),np.max(x),1001)\n",
        "y = list()\n",
        "for i in x:\n",
        "    y.append(round(f_noise(i),2))\n",
        "y = np.array(y)\n",
        "plt.plot(x, y,'o')\n",
        "# plt.plot(xi, f(xi),'-')\n",
        "plt.show()"
      ],
      "metadata": {
        "id": "Nt_m2_v8cZRZ"
      }
    },
    {
      "cell_type": "code",
      "execution_count": null,
      "outputs": [],
      "source": [
        "print(x)\n",
        "print(y)"
      ],
      "metadata": {
        "id": "LIuOnvFucZRZ"
      }
    },
    {
      "cell_type": "code",
      "execution_count": null,
      "outputs": [],
      "source": [
        "# Evaluar el logaritmo natural de y\n",
        "Y = np.log(y)\n",
        "print(Y)"
      ],
      "metadata": {
        "id": "o5bHqfz0cZRZ"
      }
    },
    {
      "cell_type": "code",
      "execution_count": null,
      "outputs": [],
      "source": [
        "sum_xi = np.sum(x)\n",
        "sum_xi_2 = np.sum(x**2)\n",
        "sum_yi = np.sum(y)\n",
        "sum_xiyi = np.sum(x*y)\n",
        "a = np.array([[sum_xi_2, sum_xi],\n",
        "              [sum_xi, len(x)]])\n",
        "b = np.array([sum_xiyi ,sum_yi])\n",
        "solve = np.linalg.solve(a, b)\n",
        "print(solve)"
      ],
      "metadata": {
        "id": "B4s5_spycZRZ"
      }
    },
    {
      "cell_type": "markdown",
      "source": [
        "# Transformaciones"
      ],
      "metadata": {
        "collapsed": false,
        "id": "DMwQPLPqcZRZ"
      }
    },
    {
      "cell_type": "code",
      "execution_count": null,
      "outputs": [
        {
          "output_type": "display_data",
          "data": {
            "text/plain": [
              "<Figure size 432x288 with 1 Axes>"
            ],
            "image/png": "[encoded data removed]"
          },
          "metadata": {
            "needs_background": "light"
          }
        }
      ],
      "source": [
        "# parámetros a_0, a_1 = 7, 0.323\n",
        "# función a_0*np.exp(a_1*x)\n",
        "\n",
        "x = [0., 0.25, 0.5, 1.25, 1.5, 1.75, 2.25, 2.5, 2.75, 3, 3.75, 4, 4.5, 5]\n",
        "y = [6.55, 7.71, 6.3, 10.19, 9.15, 9.96, 15.45, 13.43, 15.11, 17.16, 25.44, 27.97, 31.17, 37.57]\n",
        "x, y = np.array(x), np.array(y)\n",
        "plt.plot(x, y,'o')\n",
        "# plt.plot(xi, f(xi),'-') ORIGINAL\n",
        "plt.show()"
      ],
      "metadata": {
        "id": "MuInX1aacZRZ",
        "outputId": "f58840a9-89bf-45e7-8971-446aa3deb495",
        "colab": {
          "base_uri": "https://localhost:8080/",
          "height": 265
        }
      }
    },
    {
      "cell_type": "markdown",
      "source": [
        "# Regresión Lineal"
      ],
      "metadata": {
        "collapsed": false,
        "id": "_9jLyJDNcZRZ"
      }
    },
    {
      "cell_type": "code",
      "execution_count": null,
      "outputs": [
        {
          "output_type": "stream",
          "name": "stdout",
          "text": [
            "sum_xi: 5.000, sum_xi_2: 7.500\n",
            "sum_yi: 1.681, sum_xiyi: 1.117\n",
            "Solución del sistema: [-0.2256  0.5618]\n",
            "Regresión lineal: y = -0.226x + 0.562\n"
          ]
        }
      ],
      "source": [
        "x = [0.0, 0.5, 1.0, 1.5, 2.0]\n",
        "y = [0.601, 0.429, 0.290, 0.219, 0.142]\n",
        "\n",
        "x, y = np.array(x), np.array(y)\n",
        "\n",
        "sum_xi = np.sum(x)\n",
        "sum_xi_2 = np.sum(x**2)\n",
        "sum_yi = np.sum(y)\n",
        "sum_xiyi = np.sum(x*y)\n",
        "print(f'sum_xi: {sum_xi:.3f}, sum_xi_2: {sum_xi_2:.3f}')\n",
        "print(f'sum_yi: {sum_yi:.3f}, sum_xiyi: {sum_xiyi:.3f}')\n",
        "a = np.array([[sum_xi_2, sum_xi],\n",
        "              [sum_xi, len(x)]])\n",
        "b = np.array([sum_xiyi ,sum_yi])\n",
        "solve = np.linalg.solve(a, b)\n",
        "print(f'Solución del sistema: {solve}')\n",
        "print(f'Regresión lineal: y = {solve[0]:.3f}x + {solve[1]:.3f}')\n",
        "f_lin = lambda x: solve[0]*x + solve[1]"
      ],
      "metadata": {
        "id": "G7uZpDsqcZRZ",
        "outputId": "837f485a-1a08-4095-92f1-8fde22650542",
        "colab": {
          "base_uri": "https://localhost:8080/"
        }
      }
    },
    {
      "cell_type": "code",
      "execution_count": null,
      "outputs": [
        {
          "output_type": "display_data",
          "data": {
            "text/plain": [
              "<Figure size 432x288 with 1 Axes>"
            ],
            "image/png": "[encoded data removed]"
          },
          "metadata": {
            "needs_background": "light"
          }
        }
      ],
      "source": [
        "xi = np.linspace(np.min(x),np.max(x),1001)\n",
        "plt.plot(x, y,'o')\n",
        "plt.plot(xi, f_lin(xi),'-')\n",
        "plt.show()"
      ],
      "metadata": {
        "id": "oExrXIkmcZRa",
        "outputId": "64bd9e37-ab50-4b42-ec94-7d950046eee5",
        "colab": {
          "base_uri": "https://localhost:8080/",
          "height": 265
        }
      }
    },
    {
      "cell_type": "code",
      "execution_count": null,
      "outputs": [
        {
          "output_type": "stream",
          "name": "stdout",
          "text": [
            "67.87274545454548 [0.96934545]\n"
          ]
        },
        {
          "output_type": "execute_result",
          "data": {
            "text/plain": [
              "0.8905019357927553"
            ]
          },
          "metadata": {},
          "execution_count": 75
        }
      ],
      "source": [
        "from sklearn.linear_model import LinearRegression\n",
        "x = np.array([0,\t1,\t2,\t3,\t4,\t5,\t6,\t7,\t8,\t9])\n",
        "y = np.array([67.052,\t68.008,\t69.803,\t72.024,\t73.4,\t72.063,\t74.669,\t74.487,\t74.065,\t76.777])\n",
        "x, y = np.array(x), np.array(y)\n",
        "x_reshape = x.reshape(-1, 1)\n",
        "lin_reg = LinearRegression().fit(x_reshape, y)\n",
        "print(lin_reg.intercept_, lin_reg.coef_)\n",
        "lin_reg.score(x_reshape, y)"
      ],
      "metadata": {
        "id": "jerX4nPacZRa",
        "outputId": "ed870689-a12e-4c6e-86ed-40b3f5d937a5",
        "colab": {
          "base_uri": "https://localhost:8080/"
        }
      }
    },
    {
      "cell_type": "code",
      "execution_count": null,
      "outputs": [
        {
          "output_type": "display_data",
          "data": {
            "text/plain": [
              "<Figure size 432x288 with 1 Axes>"
            ],
            "image/png": "[encoded data removed]"
          },
          "metadata": {
            "needs_background": "light"
          }
        }
      ],
      "source": [
        "xi = np.linspace(np.min(x),np.max(x),1001)\n",
        "y_pred = lin_reg.predict(xi.reshape((-1,1)))\n",
        "plt.plot(x, y,'o')\n",
        "plt.plot(xi, y_pred,'-')\n",
        "plt.show()"
      ],
      "metadata": {
        "id": "zbSM4WMocZRa",
        "colab": {
          "base_uri": "https://localhost:8080/",
          "height": 265
        },
        "outputId": "e408f65f-cf6a-4017-b895-f2195583d076"
      }
    },
    {
      "cell_type": "code",
      "execution_count": null,
      "outputs": [
        {
          "output_type": "stream",
          "name": "stdout",
          "text": [
            "45 285 2025 15333\n",
            "722.3480000000002 3330.537 21268.455\n",
            "Regresión cuadrática: y = -0.072x^2 + 1.621x + 67.005\n"
          ]
        },
        {
          "output_type": "display_data",
          "data": {
            "text/plain": [
              "<Figure size 432x288 with 1 Axes>"
            ],
            "image/png": "[encoded data removed]"
          },
          "metadata": {
            "needs_background": "light"
          }
        }
      ],
      "source": [
        "x = np.array([0,\t1,\t2,\t3,\t4,\t5,\t6,\t7,\t8,\t9])\n",
        "y = np.array([67.052,\t68.008,\t69.803,\t72.024,\t73.4,\t72.063,\t74.669,\t74.487,\t74.065,\t76.777])\n",
        "x, y = np.array(x), np.array(y)\n",
        "\n",
        "sum_xi = np.sum(x)\n",
        "sum_xi_2 = np.sum(x**2)\n",
        "sum_xi_3 = np.sum(x**3)\n",
        "sum_xi_4 = np.sum(x**4)\n",
        "sum_yi = np.sum(y)\n",
        "sum_xiyi = np.sum(x*y)\n",
        "sum_xi_2yi = np.sum(x**2*y)\n",
        "print(sum_xi, sum_xi_2, sum_xi_3, sum_xi_4)\n",
        "print(sum_yi, sum_xiyi, sum_xi_2yi)\n",
        "a = np.array([[sum_xi_4, sum_xi_3, sum_xi_2],\n",
        "              [sum_xi_3, sum_xi_2, sum_xi],\n",
        "              [sum_xi_2, sum_xi, len(x)]])\n",
        "b = np.array([sum_xi_2yi, sum_xiyi ,sum_yi])\n",
        "solve_2 = np.linalg.solve(a, b)\n",
        "f_cuad = lambda x: solve_2[0]*x**2 + solve_2[1]*x + solve_2[2]\n",
        "print(f'Regresión cuadrática: y = {solve_2[0]:.3f}x^2 + {solve_2[1]:.3f}x + {solve_2[2]:.3f}')\n",
        "xi = np.linspace(np.min(x),np.max(x),1001)\n",
        "plt.plot(x, y,'o')\n",
        "#plt.plot(xi, f_lin(xi),'-')\n",
        "plt.plot(xi, f_cuad(xi),'r-')\n",
        "plt.show()\n"
      ],
      "metadata": {
        "id": "c51THcjIcZRa",
        "outputId": "4a7bca29-691e-4653-a334-36bdaf37d83e",
        "colab": {
          "base_uri": "https://localhost:8080/",
          "height": 317
        }
      }
    },
    {
      "cell_type": "markdown",
      "source": [
        "# Regresión exponencial"
      ],
      "metadata": {
        "collapsed": false,
        "id": "E9kiy8jJcZRa"
      }
    },
    {
      "cell_type": "code",
      "execution_count": null,
      "outputs": [
        {
          "output_type": "stream",
          "name": "stdout",
          "text": [
            "[4.20546844 4.21962535 4.24567699 4.2769994  4.29592394 4.27754074\n",
            " 4.31306501 4.31062461 4.30494309 4.34090512]\n"
          ]
        }
      ],
      "source": [
        "x = np.array([0,\t1,\t2,\t3,\t4,\t5,\t6,\t7,\t8,\t9])\n",
        "y = np.array([67.052,\t68.008,\t69.803,\t72.024,\t73.4,\t72.063,\t74.669,\t74.487,\t74.065,\t76.777])\n",
        "x, y = np.array(x), np.array(y)\n",
        "Y = np.log(y)\n",
        "print(Y)"
      ],
      "metadata": {
        "id": "yge-McWCcZRa",
        "outputId": "4e78806c-2b1b-4fa3-98b8-880dbb8ea1a3",
        "colab": {
          "base_uri": "https://localhost:8080/"
        }
      }
    },
    {
      "cell_type": "code",
      "execution_count": null,
      "outputs": [],
      "source": [
        "x = [0.0, 0.5, 1.0, 1.5, 2.0]\n",
        "y = [0.601, 0.429, 0.290, 0.219, 0.142]\n",
        "Y = [-0.50916034, -0.84629836, -1.23787436, -1.51868355, -1.95192822]\n",
        "\n",
        "x, y = np.array(x), np.array(y)"
      ],
      "metadata": {
        "id": "PbK0MeqGcZRa"
      }
    },
    {
      "cell_type": "code",
      "execution_count": null,
      "outputs": [
        {
          "output_type": "display_data",
          "data": {
            "text/plain": [
              "<Figure size 432x288 with 1 Axes>"
            ],
            "image/png": "[encoded data removed]"
          },
          "metadata": {
            "needs_background": "light"
          }
        }
      ],
      "source": [
        "plt.plot(x, Y,'ro')\n",
        "plt.show()"
      ],
      "metadata": {
        "id": "TLm76c7DcZRb",
        "outputId": "9a279efb-6e71-47e6-8df1-243fd55096cf",
        "colab": {
          "base_uri": "https://localhost:8080/",
          "height": 265
        }
      }
    },
    {
      "cell_type": "code",
      "execution_count": null,
      "outputs": [
        {
          "output_type": "stream",
          "name": "stdout",
          "text": [
            "sum_xi: 5.000, sum_xi_2: 7.500\n",
            "sum_yi: -6.064, sum_xiyi: -7.843\n",
            "Solución del sistema: [-0.71158419 -0.50120478]\n",
            "Regresión lineal (transformada semi-log): Y = -0.712x + -0.501\n"
          ]
        }
      ],
      "source": [
        "sum_xi = np.sum(x)\n",
        "sum_xi_2 = np.sum(x**2)\n",
        "sum_Yi = np.sum(Y)\n",
        "sum_xiYi = np.sum(x*Y)\n",
        "print(f'sum_xi: {sum_xi:.3f}, sum_xi_2: {sum_xi_2:.3f}')\n",
        "print(f'sum_yi: {sum_Yi:.3f}, sum_xiyi: {sum_xiYi:.3f}')\n",
        "a = np.array([[sum_xi_2, sum_xi],\n",
        "              [sum_xi, len(x)]])\n",
        "b = np.array([sum_xiYi ,sum_Yi])\n",
        "solve_3 = np.linalg.solve(a, b)\n",
        "print(f'Solución del sistema: {solve_3}')\n",
        "print(f'Regresión lineal (transformada semi-log): Y = {solve_3[0]:.3f}x + {solve_3[1]:.3f}')\n",
        "f_trans_lin = lambda x: solve_3[0]*x + solve_3[1]"
      ],
      "metadata": {
        "id": "qzL9yZ8fcZRb",
        "outputId": "5c7569ed-8e76-40fb-b89a-d46e7a7b2b0b",
        "colab": {
          "base_uri": "https://localhost:8080/"
        }
      }
    },
    {
      "cell_type": "code",
      "execution_count": null,
      "outputs": [
        {
          "output_type": "display_data",
          "data": {
            "text/plain": [
              "<Figure size 432x288 with 1 Axes>"
            ],
            "image/png": "[encoded data removed]"
          },
          "metadata": {
            "needs_background": "light"
          }
        }
      ],
      "source": [
        "xi = np.linspace(np.min(x),np.max(x),1001)\n",
        "plt.plot(x, Y,'ro')\n",
        "plt.plot(xi, f_trans_lin(xi),'-')\n",
        "plt.show()"
      ],
      "metadata": {
        "id": "cmds1HTacZRb",
        "outputId": "83bd73d6-1e5e-47b5-81fd-e0773c9b613e",
        "colab": {
          "base_uri": "https://localhost:8080/",
          "height": 265
        }
      }
    },
    {
      "cell_type": "code",
      "source": [
        "f_exp = lambda x: np.exp(solve_3[1]) * np.exp(solve_3[0]*x)\n",
        "a_0, a_1  = np.exp(solve_3[1]), solve_3[0]\n",
        "print(f'Regresión exponencial: Y = {a_0:.3f}*e^({a_1:.3f}*x)')"
      ],
      "metadata": {
        "id": "zn3a2dQBcZRb",
        "outputId": "a4be56d3-bafe-4ba4-eb40-e3457ea7a8c5",
        "colab": {
          "base_uri": "https://localhost:8080/"
        }
      },
      "execution_count": null,
      "outputs": [
        {
          "output_type": "stream",
          "name": "stdout",
          "text": [
            "Regresión exponencial: Y = 0.606*e^(-0.712*x)\n"
          ]
        }
      ]
    },
    {
      "cell_type": "code",
      "execution_count": null,
      "outputs": [
        {
          "output_type": "display_data",
          "data": {
            "text/plain": [
              "<Figure size 432x288 with 1 Axes>"
            ],
            "image/png": "[encoded data removed]"
          },
          "metadata": {
            "needs_background": "light"
          }
        }
      ],
      "source": [
        "xi = np.linspace(np.min(x),np.max(x),1001)\n",
        "plt.plot(x, y,'o')\n",
        "plt.plot(xi, f_lin(xi),'-')\n",
        "plt.plot(xi, f_cuad(xi),'-')\n",
        "plt.plot(xi, f_exp(xi),'g-')\n",
        "plt.show()"
      ],
      "metadata": {
        "id": "rYnuoWKhcZRb",
        "outputId": "2ec45b9a-fffa-42db-ad22-9f581698b3ad",
        "colab": {
          "base_uri": "https://localhost:8080/",
          "height": 265
        }
      }
    },
    {
      "cell_type": "markdown",
      "source": [
        "## Potencia"
      ],
      "metadata": {
        "collapsed": false,
        "id": "EcIvZ0TecZRb"
      }
    },
    {
      "cell_type": "code",
      "execution_count": null,
      "outputs": [
        {
          "output_type": "stream",
          "name": "stdout",
          "text": [
            "[4.20546844 4.21962535 4.24567699 4.2769994  4.29592394 4.27754074\n",
            " 4.31306501 4.31062461 4.30494309 4.34090512]\n",
            "[      -inf 0.         0.69314718 1.09861229 1.38629436 1.60943791\n",
            " 1.79175947 1.94591015 2.07944154 2.19722458]\n"
          ]
        },
        {
          "output_type": "stream",
          "name": "stderr",
          "text": [
            "/usr/local/lib/python3.7/dist-packages/ipykernel_launcher.py:5: RuntimeWarning: divide by zero encountered in log\n",
            "  \"\"\"\n"
          ]
        }
      ],
      "source": [
        "x = np.array([0,\t1,\t2,\t3,\t4,\t5,\t6,\t7,\t8,\t9])\n",
        "y = np.array([67.052,\t68.008,\t69.803,\t72.024,\t73.4,\t72.063,\t74.669,\t74.487,\t74.065,\t76.777])\n",
        "x, y = np.array(x), np.array(y)\n",
        "Y = np.log(y)\n",
        "X = np.log(x)\n",
        "print(Y)\n",
        "print(X)"
      ],
      "metadata": {
        "id": "oEz9KdqkcZRb",
        "outputId": "b5e7dbe2-983c-473f-d602-36a57683030a",
        "colab": {
          "base_uri": "https://localhost:8080/"
        }
      }
    },
    {
      "cell_type": "code",
      "execution_count": null,
      "outputs": [
        {
          "output_type": "stream",
          "name": "stderr",
          "text": [
            "/usr/local/lib/python3.7/dist-packages/numpy/core/function_base.py:151: RuntimeWarning: invalid value encountered in multiply\n",
            "  y *= step\n",
            "/usr/local/lib/python3.7/dist-packages/numpy/core/function_base.py:161: RuntimeWarning: invalid value encountered in add\n",
            "  y += start\n"
          ]
        },
        {
          "output_type": "display_data",
          "data": {
            "text/plain": [
              "<Figure size 432x288 with 1 Axes>"
            ],
            "image/png": "[encoded data removed]"
          },
          "metadata": {
            "needs_background": "light"
          }
        }
      ],
      "source": [
        "Xi = np.linspace(np.min(X),np.max(X),1001)\n",
        "plt.plot(X, Y,'go')\n",
        "plt.show()"
      ],
      "metadata": {
        "id": "jpCHb3eYcZRb",
        "outputId": "6c011bd3-6699-4dd7-e2b7-3ecf68b82cae",
        "colab": {
          "base_uri": "https://localhost:8080/",
          "height": 334
        }
      }
    },
    {
      "cell_type": "code",
      "execution_count": null,
      "outputs": [
        {
          "output_type": "stream",
          "name": "stdout",
          "text": [
            "sum_xi: -inf, sum_xi_2: inf\n",
            "sum_yi: 42.791, sum_xiyi: -inf\n",
            "Solución del sistema: [nan nan]\n",
            "Regresión lineal (transformada log-log): Y = nanX + nan\n"
          ]
        }
      ],
      "source": [
        "sum_Xi = np.sum(X)\n",
        "sum_Xi_2 = np.sum(X**2)\n",
        "sum_Yi = np.sum(Y)\n",
        "sum_XiYi = np.sum(X*Y)\n",
        "print(f'sum_xi: {sum_Xi:.3f}, sum_xi_2: {sum_Xi_2:.3f}')\n",
        "print(f'sum_yi: {sum_Yi:.3f}, sum_xiyi: {sum_XiYi:.3f}')\n",
        "a = np.array([[sum_Xi_2, sum_Xi],\n",
        "              [sum_Xi, len(X)]])\n",
        "b = np.array([sum_XiYi ,sum_Yi])\n",
        "solve_4 = np.linalg.solve(a, b)\n",
        "print(f'Solución del sistema: {solve_4}')\n",
        "print(f'Regresión lineal (transformada log-log): Y = {solve_4[0]:.3f}X + {solve_4[1]:.3f}')\n",
        "f_trans_lin_2 = lambda x: solve_4[0]*x + solve_4[1]"
      ],
      "metadata": {
        "id": "Zl_P5TVncZRc",
        "outputId": "f4998e55-90f8-46aa-d923-8b036f1e49d7",
        "colab": {
          "base_uri": "https://localhost:8080/"
        }
      }
    },
    {
      "cell_type": "code",
      "execution_count": null,
      "outputs": [
        {
          "output_type": "stream",
          "name": "stderr",
          "text": [
            "/usr/local/lib/python3.7/dist-packages/numpy/core/function_base.py:151: RuntimeWarning: invalid value encountered in multiply\n",
            "  y *= step\n",
            "/usr/local/lib/python3.7/dist-packages/numpy/core/function_base.py:161: RuntimeWarning: invalid value encountered in add\n",
            "  y += start\n"
          ]
        },
        {
          "output_type": "display_data",
          "data": {
            "text/plain": [
              "<Figure size 432x288 with 1 Axes>"
            ],
            "image/png": "[encoded data removed]"
          },
          "metadata": {
            "needs_background": "light"
          }
        }
      ],
      "source": [
        "Xi = np.linspace(np.min(X),np.max(X),1001)\n",
        "plt.plot(X, Y,'go')\n",
        "plt.plot(Xi, f_trans_lin_2(Xi),'-')\n",
        "plt.show()"
      ],
      "metadata": {
        "id": "iSnnbXawcZRc",
        "outputId": "42b050b6-66ef-4938-bce1-7f1bd13fc488",
        "colab": {
          "base_uri": "https://localhost:8080/",
          "height": 334
        }
      }
    },
    {
      "cell_type": "code",
      "execution_count": null,
      "outputs": [
        {
          "output_type": "execute_result",
          "data": {
            "text/plain": [
              "nan"
            ]
          },
          "metadata": {},
          "execution_count": 90
        }
      ],
      "source": [
        "np.exp(solve_4[1])"
      ],
      "metadata": {
        "id": "lr07Bu5YcZRc",
        "outputId": "13c7f7b5-6229-4d8c-b397-6a715f290c9d",
        "colab": {
          "base_uri": "https://localhost:8080/"
        }
      }
    },
    {
      "cell_type": "code",
      "execution_count": null,
      "outputs": [
        {
          "output_type": "stream",
          "name": "stdout",
          "text": [
            "Regresión exponencial: Y = nan*x^(nan)\n"
          ]
        }
      ],
      "source": [
        "f_pot = lambda x: np.exp(solve_4[1]) * x**(solve_4[0])\n",
        "a_0, a_1  = np.exp(solve_4[1]), solve_4[0]\n",
        "print(f'Regresión exponencial: Y = {a_0:.3f}*x^({a_1:.3f})')"
      ],
      "metadata": {
        "id": "ObPgleDOcZRc",
        "outputId": "de31e38a-0447-4c99-c3da-ec1f97bc89c6",
        "colab": {
          "base_uri": "https://localhost:8080/"
        }
      }
    },
    {
      "cell_type": "code",
      "execution_count": null,
      "outputs": [
        {
          "output_type": "display_data",
          "data": {
            "text/plain": [
              "<Figure size 432x288 with 1 Axes>"
            ],
            "image/png": "[encoded data removed]"
          },
          "metadata": {
            "needs_background": "light"
          }
        }
      ],
      "source": [
        "xi = np.linspace(np.min(x),np.max(x),1001)\n",
        "plt.plot(x, y,'o')\n",
        "#plt.plot(xi, f_lin(xi),'-')\n",
        "plt.plot(xi, f_cuad(xi),'r-')\n",
        "plt.plot(xi, f_exp(xi),'g-')\n",
        "plt.plot(xi, f_pot(xi),'b-')\n",
        "plt.show()"
      ],
      "metadata": {
        "id": "WZwK-u9AcZRc",
        "outputId": "3c411080-bbb6-4e5f-f650-7c99517b9e1f",
        "colab": {
          "base_uri": "https://localhost:8080/",
          "height": 268
        }
      }
    },
    {
      "cell_type": "markdown",
      "source": [
        "# Coeficiente de determinación\n"
      ],
      "metadata": {
        "collapsed": false,
        "id": "C8WeE8eccZRc"
      }
    },
    {
      "cell_type": "markdown",
      "source": [
        "## regresión lineal"
      ],
      "metadata": {
        "collapsed": false,
        "id": "iqsITtTJcZRc"
      }
    },
    {
      "cell_type": "code",
      "execution_count": null,
      "outputs": [
        {
          "output_type": "stream",
          "name": "stdout",
          "text": [
            "sum_xi: 33.000, sum_xi_2: 110.375\n",
            "sum_yi: 233.160, sum_xiyi: 745.735\n",
            "Solución del sistema: [6.01865205 2.46746301]\n",
            "Regresión lineal: y = 6.019x + 2.467\n"
          ]
        }
      ],
      "source": [
        "x = [0., 0.25, 0.5, 1.25, 1.5, 1.75, 2.25, 2.5, 2.75, 3, 3.75, 4, 4.5, 5]\n",
        "y = [6.55, 7.71, 6.3, 10.19, 9.15, 9.96, 15.45, 13.43, 15.11, 17.16, 25.44, 27.97, 31.17, 37.57]\n",
        "x, y = np.array(x), np.array(y)\n",
        "\n",
        "sum_xi = np.sum(x)\n",
        "sum_xi_2 = np.sum(x**2)\n",
        "sum_yi = np.sum(y)\n",
        "sum_xiyi = np.sum(x*y)\n",
        "print(f'sum_xi: {sum_xi:.3f}, sum_xi_2: {sum_xi_2:.3f}')\n",
        "print(f'sum_yi: {sum_yi:.3f}, sum_xiyi: {sum_xiyi:.3f}')\n",
        "a = np.array([[sum_xi_2, sum_xi],\n",
        "              [sum_xi, len(x)]])\n",
        "b = np.array([sum_xiyi ,sum_yi])\n",
        "solve = np.linalg.solve(a, b)\n",
        "print(f'Solución del sistema: {solve}')\n",
        "print(f'Regresión lineal: y = {solve[0]:.3f}x + {solve[1]:.3f}')\n",
        "f_lin = lambda x: solve[0]*x + solve[1]"
      ],
      "metadata": {
        "id": "a65sXiugcZRc",
        "outputId": "6f99d8f7-8e12-44db-f362-103ae08c9bde",
        "colab": {
          "base_uri": "https://localhost:8080/"
        }
      }
    },
    {
      "cell_type": "code",
      "execution_count": null,
      "outputs": [
        {
          "output_type": "stream",
          "name": "stdout",
          "text": [
            "1300.116942857143 119.59703364383567\n"
          ]
        },
        {
          "output_type": "execute_result",
          "data": {
            "text/plain": [
              "0.9080105568188285"
            ]
          },
          "metadata": {},
          "execution_count": 95
        }
      ],
      "source": [
        "y_media = y.mean()\n",
        "y_predict = f_lin(x)\n",
        "s_t = ((y - y_media)**2).sum()\n",
        "s_r = ((y - y_predict)**2).sum()\n",
        "print(s_t, s_r)\n",
        "r_2 = (s_t - s_r) / s_t\n",
        "r_2"
      ],
      "metadata": {
        "id": "vKJGZjQucZRd",
        "outputId": "2034ecca-146c-48cb-cabf-31d3e396fbbe",
        "colab": {
          "base_uri": "https://localhost:8080/"
        }
      }
    },
    {
      "cell_type": "markdown",
      "source": [
        "# regresión cuadrática"
      ],
      "metadata": {
        "collapsed": false,
        "id": "OicVJQzocZRd"
      }
    },
    {
      "cell_type": "code",
      "execution_count": null,
      "outputs": [
        {
          "output_type": "stream",
          "name": "stdout",
          "text": [
            "5.0 7.5 12.5 22.125\n",
            "1.681 1.117 1.458\n",
            "Regresión cuadrática: y = 0.074x^2 + -0.373x + 0.599\n"
          ]
        }
      ],
      "source": [
        "x = [0.0, 0.5, 1.0, 1.5, 2.0]\n",
        "y = [0.601, 0.429, 0.290, 0.219, 0.142]\n",
        "x, y = np.array(x), np.array(y)\n",
        "\n",
        "sum_xi = np.sum(x)\n",
        "sum_xi_2 = np.sum(x**2)\n",
        "sum_xi_3 = np.sum(x**3)\n",
        "sum_xi_4 = np.sum(x**4)\n",
        "sum_yi = np.sum(y)\n",
        "sum_xiyi = np.sum(x*y)\n",
        "sum_xi_2yi = np.sum(x**2*y)\n",
        "print(sum_xi, sum_xi_2, sum_xi_3, sum_xi_4)\n",
        "print(sum_yi, sum_xiyi, sum_xi_2yi)\n",
        "a = np.array([[sum_xi_4, sum_xi_3, sum_xi_2],\n",
        "              [sum_xi_3, sum_xi_2, sum_xi],\n",
        "              [sum_xi_2, sum_xi, len(x)]])\n",
        "b = np.array([sum_xi_2yi, sum_xiyi ,sum_yi])\n",
        "solve_2 = np.linalg.solve(a, b)\n",
        "f_cuad = lambda x: solve_2[0]*x**2 + solve_2[1]*x + solve_2[2]\n",
        "print(f'Regresión cuadrática: y = {solve_2[0]:.3f}x^2 + {solve_2[1]:.3f}x + {solve_2[2]:.3f}')"
      ],
      "metadata": {
        "id": "lq020uDJcZRd",
        "outputId": "5b5052f1-e5e7-4c0b-c7c4-d05c4e11444b",
        "colab": {
          "base_uri": "https://localhost:8080/"
        }
      }
    },
    {
      "cell_type": "code",
      "execution_count": null,
      "outputs": [
        {
          "output_type": "stream",
          "name": "stdout",
          "text": [
            "0.1323148 0.0003218285714285716\n"
          ]
        },
        {
          "output_type": "execute_result",
          "data": {
            "text/plain": [
              "0.9975677054159583"
            ]
          },
          "metadata": {},
          "execution_count": 54
        }
      ],
      "source": [
        "y_media = y.mean()\n",
        "y_predict = f_cuad(x)\n",
        "s_t = ((y - y_media)**2).sum()\n",
        "s_r = ((y - y_predict)**2).sum()\n",
        "print(s_t, s_r)\n",
        "r_2 = (s_t - s_r) / s_t\n",
        "r_2"
      ],
      "metadata": {
        "id": "9tmSDnYWcZRd",
        "outputId": "25d19e40-b6a3-4cc0-cdaf-5095cc8d3f10",
        "colab": {
          "base_uri": "https://localhost:8080/"
        }
      }
    },
    {
      "cell_type": "code",
      "source": [
        "plt.plot(x, y,'o')\n",
        "#plt.plot(xi, f_lin(xi),'-')\n",
        "plt.plot(xi, f_cuad(xi),'r-')\n",
        "plt.show()"
      ],
      "metadata": {
        "colab": {
          "base_uri": "https://localhost:8080/",
          "height": 265
        },
        "id": "DcubZE13hrtb",
        "outputId": "93a152c7-379e-4889-bac3-a8dc25c59626"
      },
      "execution_count": null,
      "outputs": [
        {
          "output_type": "display_data",
          "data": {
            "text/plain": [
              "<Figure size 432x288 with 1 Axes>"
            ],
            "image/png": "[encoded data removed]"
          },
          "metadata": {
            "needs_background": "light"
          }
        }
      ]
    },
    {
      "cell_type": "markdown",
      "source": [
        "# regresión exponencial"
      ],
      "metadata": {
        "collapsed": false,
        "id": "RN9fH1ZDcZRd"
      }
    },
    {
      "cell_type": "code",
      "execution_count": null,
      "outputs": [],
      "source": [
        "x = [0.0, 0.5, 1.0, 1.5, 2.0]\n",
        "y = [0.601, 0.429, 0.290, 0.219, 0.142]\n",
        "x, y = np.array(x), np.array(y)\n"
      ],
      "metadata": {
        "id": "FQKEvaRGcZRd"
      }
    },
    {
      "cell_type": "code",
      "source": [
        "sum_xi = np.sum(x)\n",
        "sum_xi_2 = np.sum(x**2)\n",
        "sum_xi_3 = np.sum(x**3)\n",
        "sum_xi_4 = np.sum(x**4)\n",
        "sum_yi = np.sum(y)\n",
        "sum_xiyi = np.sum(x*y)\n",
        "sum_xi_2yi = np.sum(x**2*y)\n",
        "print(sum_xi, sum_xi_2, sum_xi_3, sum_xi_4)\n",
        "print(sum_yi, sum_xiyi, sum_xi_2yi)\n",
        "a = np.array([[sum_xi_4, sum_xi_3, sum_xi_2],\n",
        "              [sum_xi_3, sum_xi_2, sum_xi],\n",
        "              [sum_xi_2, sum_xi, len(x)]])\n",
        "b = np.array([sum_xi_2yi, sum_xiyi ,sum_yi])\n",
        "solve_3 = np.linalg.solve(a, b)\n",
        "f_exp = lambda x: np.exp(solve_3[1]) * np.exp(solve_3[0]*x)\n",
        "print(f'sum_xi: {sum_xi:.3f}, sum_xi_2: {sum_xi_2:.3f}')\n",
        "print(f'sum_yi: {sum_Yi:.3f}, sum_xiyi: {sum_xiYi:.3f}')\n",
        "print(f'Solución del sistema: {solve_3}')"
      ],
      "metadata": {
        "colab": {
          "base_uri": "https://localhost:8080/"
        },
        "id": "ngmXBQwaqx3r",
        "outputId": "f3ceaa08-d8e3-48fb-bf7b-56980c29259b"
      },
      "execution_count": null,
      "outputs": [
        {
          "output_type": "stream",
          "name": "stdout",
          "text": [
            "5.0 7.5 12.5 22.125\n",
            "1.681 1.117 1.458\n",
            "sum_xi: 5.000, sum_xi_2: 7.500\n",
            "sum_yi: -6.064, sum_xiyi: -7.843\n",
            "Solución del sistema: [ 0.07371429 -0.37302857  0.59865714]\n"
          ]
        }
      ]
    },
    {
      "cell_type": "code",
      "execution_count": null,
      "outputs": [
        {
          "output_type": "stream",
          "name": "stdout",
          "text": [
            "0.1323148 1.02594800980551\n"
          ]
        },
        {
          "output_type": "execute_result",
          "data": {
            "text/plain": [
              "-6.753841670058904"
            ]
          },
          "metadata": {},
          "execution_count": 61
        }
      ],
      "source": [
        "y_media = y.mean()\n",
        "y_predict = f_exp(x)\n",
        "s_t = ((y - y_media)**2).sum()\n",
        "s_r = ((y - y_predict)**2).sum()\n",
        "print(s_t, s_r)\n",
        "r_2 = (s_t - s_r) / s_t\n",
        "r_2"
      ],
      "metadata": {
        "id": "rEQTjT-zcZRd",
        "outputId": "2f8a6ee0-037f-4b66-cc0a-e7b100ad49e5",
        "colab": {
          "base_uri": "https://localhost:8080/"
        }
      }
    },
    {
      "cell_type": "code",
      "execution_count": null,
      "outputs": [
        {
          "output_type": "display_data",
          "data": {
            "text/plain": [
              "<Figure size 432x288 with 1 Axes>"
            ],
            "image/png": "[encoded data removed]"
          },
          "metadata": {
            "needs_background": "light"
          }
        }
      ],
      "source": [
        "# parámetros a_0, a_1 = 7, 0.323\n",
        "# función a_0*np.exp(a_1*x)\n",
        "plt.plot(x, y,'o')\n",
        "plt.plot(xi, f(xi),'-') \n",
        "plt.show()"
      ],
      "metadata": {
        "id": "4UdJLycfcZRd",
        "outputId": "ab426b6a-0f31-49d3-d861-07dbc98f1143",
        "colab": {
          "base_uri": "https://localhost:8080/",
          "height": 265
        }
      }
    },
    {
      "cell_type": "code",
      "source": [
        "xi = np.linspace(np.min(x),np.max(x),1001)\n",
        "plt.plot(x, y,'o')\n",
        "# plt.plot(xi, f_lin(xi),'-')\n",
        "plt.plot(xi, f_cuad(xi),'b-')\n",
        "plt.plot(xi, f_exp(xi),'g-')\n",
        "plt.show()"
      ],
      "metadata": {
        "colab": {
          "base_uri": "https://localhost:8080/",
          "height": 265
        },
        "id": "1qPPMEObiId6",
        "outputId": "958879e3-d9fd-4b27-d19c-5096985a3c10"
      },
      "execution_count": null,
      "outputs": [
        {
          "output_type": "display_data",
          "data": {
            "text/plain": [
              "<Figure size 432x288 with 1 Axes>"
            ],
            "image/png": "[encoded data removed]"
          },
          "metadata": {
            "needs_background": "light"
          }
        }
      ]
    },
    {
      "cell_type": "markdown",
      "source": [
        "# Regresión Lineal"
      ],
      "metadata": {
        "collapsed": false,
        "id": "B-7wqatQcZRe"
      }
    },
    {
      "cell_type": "code",
      "execution_count": null,
      "outputs": [
        {
          "name": "stdout",
          "output_type": "stream",
          "text": [
            "sum_xi: 33.000, sum_xi_2: 110.375\n",
            "sum_yi: 233.160, sum_xiyi: 745.735\n",
            "Solución del sistema: [6.01865205 2.46746301]\n",
            "Ecuación lineal: y = 6.019x + 2.467\n"
          ]
        }
      ],
      "source": [
        "x = [0., 0.25, 0.5, 1.25, 1.5, 1.75, 2.25, 2.5, 2.75, 3, 3.75, 4, 4.5, 5]\n",
        "y = [6.55, 7.71, 6.3, 10.19, 9.15, 9.96, 15.45, 13.43, 15.11, 17.16, 25.44, 27.97, 31.17, 37.57]\n",
        "x, y = np.array(x), np.array(y)\n",
        "\n",
        "sum_xi = np.sum(x)\n",
        "sum_xi_2 = np.sum(x**2)\n",
        "sum_yi = np.sum(y)\n",
        "sum_xiyi = np.sum(x*y)\n",
        "print(f'sum_xi: {sum_xi:.3f}, sum_xi_2: {sum_xi_2:.3f}')\n",
        "print(f'sum_yi: {sum_yi:.3f}, sum_xiyi: {sum_xiyi:.3f}')\n",
        "a = np.array([[sum_xi_2, sum_xi],\n",
        "              [sum_xi, len(x)]])\n",
        "b = np.array([sum_xiyi ,sum_yi])\n",
        "solve = np.linalg.solve(a, b)\n",
        "print(f'Solución del sistema: {solve}')\n",
        "print(f'Ecuación lineal: y = {solve[0]:.3f}x + {solve[1]:.3f}')\n",
        "f_lin = lambda x: solve[0]*x + solve[1]"
      ],
      "metadata": {
        "id": "mgtCF_dDcZRe",
        "outputId": "5ffabf37-aa65-40aa-a739-3a161f206834"
      }
    },
    {
      "cell_type": "code",
      "execution_count": null,
      "outputs": [
        {
          "data": {
            "text/plain": "<Figure size 640x480 with 1 Axes>",
            "image/png": "[encoded data removed]"
          },
          "metadata": {},
          "output_type": "display_data"
        }
      ],
      "source": [
        "xi = np.linspace(np.min(x),np.max(x),1001)\n",
        "plt.plot(x, y,'o')\n",
        "plt.plot(xi, f_lin(xi),'-')\n",
        "plt.show()"
      ],
      "metadata": {
        "id": "V1OPDZZhcZRe",
        "outputId": "02d280e5-782f-4a40-b055-945b3e2f1d25"
      }
    },
    {
      "cell_type": "code",
      "execution_count": null,
      "outputs": [
        {
          "output_type": "stream",
          "name": "stdout",
          "text": [
            "0.5618000000000001 [-0.2256]\n"
          ]
        },
        {
          "output_type": "execute_result",
          "data": {
            "text/plain": [
              "0.9616339215265413"
            ]
          },
          "metadata": {},
          "execution_count": 72
        }
      ],
      "source": [
        "from sklearn.linear_model import LinearRegression\n",
        "x_reshape = x.reshape(-1, 1)\n",
        "lin_reg = LinearRegression().fit(x_reshape, y)\n",
        "print(lin_reg.intercept_, lin_reg.coef_)\n",
        "lin_reg.score(x_reshape, y)"
      ],
      "metadata": {
        "id": "mEOvYLXvcZRe",
        "outputId": "4fd5d97d-8f75-43be-8cfe-e72f75380801",
        "colab": {
          "base_uri": "https://localhost:8080/"
        }
      }
    },
    {
      "cell_type": "code",
      "execution_count": null,
      "outputs": [
        {
          "data": {
            "text/plain": "<Figure size 640x480 with 1 Axes>",
            "image/png": "[encoded data removed]"
          },
          "metadata": {},
          "output_type": "display_data"
        }
      ],
      "source": [
        "xi = np.linspace(np.min(x),np.max(x),1001)\n",
        "y_pred = lin_reg.predict(xi.reshape((-1,1)))\n",
        "plt.plot(x, y,'o')\n",
        "plt.plot(xi, y_pred,'-')\n",
        "plt.show()"
      ],
      "metadata": {
        "id": "_pZiWt4tcZRe",
        "outputId": "007546a2-ed05-47e5-8273-422c2a95db2d"
      }
    },
    {
      "cell_type": "markdown",
      "source": [
        "# Regresión exponencial"
      ],
      "metadata": {
        "collapsed": false,
        "id": "5SKZXfmNcZRe"
      }
    },
    {
      "cell_type": "code",
      "execution_count": null,
      "outputs": [
        {
          "output_type": "stream",
          "name": "stdout",
          "text": [
            "[-0.50916034 -0.84629836 -1.23787436 -1.51868355 -1.95192822]\n"
          ]
        }
      ],
      "source": [
        "x = [0.0, 0.5, 1.0, 1.5, 2.0]\n",
        "y = [0.601, 0.429, 0.290, 0.219, 0.142]\n",
        "x, y = np.array(x), np.array(y)\n",
        "Y = np.log(y)\n",
        "print(Y)"
      ],
      "metadata": {
        "id": "ygfqcCMQcZRe",
        "outputId": "4ab02aed-8dfa-4987-a787-0e8ade6033d1",
        "colab": {
          "base_uri": "https://localhost:8080/"
        }
      }
    },
    {
      "cell_type": "code",
      "execution_count": null,
      "outputs": [],
      "source": [
        "Y = [-0.50916034, -0.84629836, -1.23787436, -1.51868355, -1.95192822]"
      ],
      "metadata": {
        "id": "zPzJ5MIUcZRe"
      }
    },
    {
      "cell_type": "code",
      "execution_count": null,
      "outputs": [
        {
          "output_type": "display_data",
          "data": {
            "text/plain": [
              "<Figure size 432x288 with 1 Axes>"
            ],
            "image/png": "[encoded data removed]"
          },
          "metadata": {
            "needs_background": "light"
          }
        }
      ],
      "source": [
        "plt.plot(x, Y,'ro')\n",
        "plt.show()"
      ],
      "metadata": {
        "id": "UxPZdpU9cZRe",
        "outputId": "d67c5a1b-8cfd-416f-b8da-483a306b985a",
        "colab": {
          "base_uri": "https://localhost:8080/",
          "height": 265
        }
      }
    },
    {
      "cell_type": "code",
      "execution_count": null,
      "outputs": [
        {
          "output_type": "stream",
          "name": "stdout",
          "text": [
            "sum_xi: 5.000, sum_xi_2: 7.500\n",
            "sum_yi: -6.064, sum_xiyi: -7.843\n",
            "Solución del sistema: [-0.71158419 -0.50120478]\n",
            "Ecuación lineal (transformada semi-log): Y = -0.712x + -0.501\n"
          ]
        }
      ],
      "source": [
        "sum_xi = np.sum(x)\n",
        "sum_xi_2 = np.sum(x**2)\n",
        "sum_Yi = np.sum(Y)\n",
        "sum_xiYi = np.sum(x*Y)\n",
        "print(f'sum_xi: {sum_xi:.3f}, sum_xi_2: {sum_xi_2:.3f}')\n",
        "print(f'sum_yi: {sum_Yi:.3f}, sum_xiyi: {sum_xiYi:.3f}')\n",
        "a = np.array([[sum_xi_2, sum_xi],\n",
        "              [sum_xi, len(x)]])\n",
        "b = np.array([sum_xiYi ,sum_Yi])\n",
        "solve = np.linalg.solve(a, b)\n",
        "print(f'Solución del sistema: {solve}')\n",
        "print(f'Ecuación lineal (transformada semi-log): Y = {solve[0]:.3f}x + {solve[1]:.3f}')\n",
        "f_trans_lin = lambda x: solve[0]*x + solve[1]"
      ],
      "metadata": {
        "id": "HSLQpqAacZRf",
        "outputId": "46e1a899-eaba-4352-909e-b0240f173ce9",
        "colab": {
          "base_uri": "https://localhost:8080/"
        }
      }
    },
    {
      "cell_type": "code",
      "execution_count": null,
      "outputs": [
        {
          "output_type": "display_data",
          "data": {
            "text/plain": [
              "<Figure size 432x288 with 1 Axes>"
            ],
            "image/png": "[encoded data removed]"
          },
          "metadata": {
            "needs_background": "light"
          }
        }
      ],
      "source": [
        "xi = np.linspace(np.min(x),np.max(x),1001)\n",
        "plt.plot(x, Y,'ro')\n",
        "plt.plot(xi, f_trans_lin(xi),'-')\n",
        "plt.show()"
      ],
      "metadata": {
        "id": "IXkijB7WcZRf",
        "outputId": "12afda0d-ae35-492f-cd50-74dc248f9404",
        "colab": {
          "base_uri": "https://localhost:8080/",
          "height": 265
        }
      }
    },
    {
      "cell_type": "code",
      "source": [
        "#!/usr/bin/env python3\n",
        "# -*- coding: utf-8 -*-\n",
        "\n",
        "# ---------------------------------------------------------------------\n",
        "# Compendio de programas.\n",
        "# Matemáticas para Ingeniería. Métodos numéricos con Python.\n",
        "# Copyright (C) 2020 Los autores del texto.\n",
        "# This program is free software: you can redistribute it and/or modify\n",
        "# it under the terms of the GNU General Public License as published by\n",
        "# the Free Software Foundation, either version 3 of the License, or\n",
        "# (at your option) any later version.\n",
        "# This program is distributed in the hope that it will be useful,\n",
        "# but WITHOUT ANY WARRANTY; without even the implied warranty of\n",
        "# MERCHANTABILITY or FITNESS FOR A PARTICULAR PURPOSE.  See the\n",
        "# GNU General Public License for more details.\n",
        "# You should have received a copy of the GNU General Public License\n",
        "# along with this program.  If not, see <http://www.gnu.org/licenses/>\n",
        "# ---------------------------------------------------------------------\n",
        "\n",
        "# Implementación de la recta de mínimos cuadrados.\n",
        "\n",
        "from math import *\n",
        "\n",
        "\n",
        "def RectaMinSq(datos):\n",
        "    \"\"\"\n",
        "    Implementación recta de mínimos cuadrados\n",
        "    Entradas:\n",
        "    datos -- lista de puntos (x, y) en el plano\n",
        "    Salida:\n",
        "    P -- recta de mínimos cuadrados\n",
        "    \"\"\"\n",
        "    X = sum([p[0] for p in datos])\n",
        "    Y = sum([p[1] for p in datos])\n",
        "    XX = sum([(p[0])**2 for p in datos])\n",
        "    XY = sum([p[0]*p[1] for p in datos])\n",
        "    m = len(datos)\n",
        "\n",
        "    def P(x):\n",
        "        \"\"\"Recta de mínimos cuadrados\"\"\"\n",
        "        a0 = (Y*XX - X*XY)/(m*XX - X**2)\n",
        "        a1 = (m*XY - X*Y)/(m*XX - X**2)\n",
        "        return a0 + a1*x\n",
        "\n",
        "    return P\n",
        "\n",
        "\n",
        "\n",
        "def ErrorSq(f, datos):\n",
        "    \"\"\"Calcular error cuadrático\"\"\"\n",
        "    E = sum([(p[1] - f(p[0]))**2 for p in datos])\n",
        "    print (E)\n",
        "    return E\n",
        "  \n",
        "\n",
        "\n",
        "# datos de prueba\n",
        "datos = [(0, 67.052), (1, 68.008), (2, 69.803), (3,72.024), (4, 73.4), (5,72.063), (6, 74.669), (7,74.487), (8, 74.065), (9,76.777)]\n",
        "f = RectaMinSq(datos)\n",
        "print(\"Recta de ajuste. Evaluar en x = 0:\")\n",
        "print(\"{0:.10f}\".format(f(0)))\n",
        "\n",
        "\n",
        "\n"
      ],
      "metadata": {
        "id": "KncRMWAYe2T-",
        "colab": {
          "base_uri": "https://localhost:8080/"
        },
        "outputId": "3d6a1bd1-0c9f-43b5-b385-2e6eaa39a8ab"
      },
      "execution_count": null,
      "outputs": [
        {
          "output_type": "stream",
          "name": "stdout",
          "text": [
            "Recta de ajuste. Evaluar en x = 0:\n",
            "67.8727454545\n"
          ]
        }
      ]
    },
    {
      "cell_type": "code",
      "source": [
        "xi = np.linspace(np.min(x),np.max(x),1001)\n",
        "y_pred = RectaMinSq([(5.0, 1.681), (1.117, 7.5)])\n",
        "plt.plot(x, y,'o')\n",
        "plt.plot(xi, y_pred,'-')\n",
        "plt.show()"
      ],
      "metadata": {
        "colab": {
          "base_uri": "https://localhost:8080/",
          "height": 1000
        },
        "id": "rg3ncBaivHKM",
        "outputId": "19d6d61d-ccff-41f4-f379-512a62bdac5e"
      },
      "execution_count": null,
      "outputs": [
        {
          "output_type": "error",
          "ename": "ValueError",
          "evalue": "ignored",
          "traceback": [
            "\u001b[0;31m---------------------------------------------------------------------------\u001b[0m",
            "\u001b[0;31mValueError\u001b[0m                                Traceback (most recent call last)",
            "\u001b[0;32m<ipython-input-109-2f559b9eb0ae>\u001b[0m in \u001b[0;36m<module>\u001b[0;34m\u001b[0m\n\u001b[1;32m      2\u001b[0m \u001b[0my_pred\u001b[0m \u001b[0;34m=\u001b[0m \u001b[0mRectaMinSq\u001b[0m\u001b[0;34m(\u001b[0m\u001b[0;34m[\u001b[0m\u001b[0;34m(\u001b[0m\u001b[0;36m5.0\u001b[0m\u001b[0;34m,\u001b[0m \u001b[0;36m1.681\u001b[0m\u001b[0;34m)\u001b[0m\u001b[0;34m,\u001b[0m \u001b[0;34m(\u001b[0m\u001b[0;36m1.117\u001b[0m\u001b[0;34m,\u001b[0m \u001b[0;36m7.5\u001b[0m\u001b[0;34m)\u001b[0m\u001b[0;34m]\u001b[0m\u001b[0;34m)\u001b[0m\u001b[0;34m\u001b[0m\u001b[0;34m\u001b[0m\u001b[0m\n\u001b[1;32m      3\u001b[0m \u001b[0mplt\u001b[0m\u001b[0;34m.\u001b[0m\u001b[0mplot\u001b[0m\u001b[0;34m(\u001b[0m\u001b[0mx\u001b[0m\u001b[0;34m,\u001b[0m \u001b[0my\u001b[0m\u001b[0;34m,\u001b[0m\u001b[0;34m'o'\u001b[0m\u001b[0;34m)\u001b[0m\u001b[0;34m\u001b[0m\u001b[0;34m\u001b[0m\u001b[0m\n\u001b[0;32m----> 4\u001b[0;31m \u001b[0mplt\u001b[0m\u001b[0;34m.\u001b[0m\u001b[0mplot\u001b[0m\u001b[0;34m(\u001b[0m\u001b[0mxi\u001b[0m\u001b[0;34m,\u001b[0m \u001b[0my_pred\u001b[0m\u001b[0;34m,\u001b[0m\u001b[0;34m'-'\u001b[0m\u001b[0;34m)\u001b[0m\u001b[0;34m\u001b[0m\u001b[0;34m\u001b[0m\u001b[0m\n\u001b[0m\u001b[1;32m      5\u001b[0m \u001b[0mplt\u001b[0m\u001b[0;34m.\u001b[0m\u001b[0mshow\u001b[0m\u001b[0;34m(\u001b[0m\u001b[0;34m)\u001b[0m\u001b[0;34m\u001b[0m\u001b[0;34m\u001b[0m\u001b[0m\n",
            "\u001b[0;32m/usr/local/lib/python3.7/dist-packages/matplotlib/pyplot.py\u001b[0m in \u001b[0;36mplot\u001b[0;34m(scalex, scaley, data, *args, **kwargs)\u001b[0m\n\u001b[1;32m   2761\u001b[0m     return gca().plot(\n\u001b[1;32m   2762\u001b[0m         *args, scalex=scalex, scaley=scaley, **({\"data\": data} if data\n\u001b[0;32m-> 2763\u001b[0;31m         is not None else {}), **kwargs)\n\u001b[0m\u001b[1;32m   2764\u001b[0m \u001b[0;34m\u001b[0m\u001b[0m\n\u001b[1;32m   2765\u001b[0m \u001b[0;34m\u001b[0m\u001b[0m\n",
            "\u001b[0;32m/usr/local/lib/python3.7/dist-packages/matplotlib/axes/_axes.py\u001b[0m in \u001b[0;36mplot\u001b[0;34m(self, scalex, scaley, data, *args, **kwargs)\u001b[0m\n\u001b[1;32m   1645\u001b[0m         \"\"\"\n\u001b[1;32m   1646\u001b[0m         \u001b[0mkwargs\u001b[0m \u001b[0;34m=\u001b[0m \u001b[0mcbook\u001b[0m\u001b[0;34m.\u001b[0m\u001b[0mnormalize_kwargs\u001b[0m\u001b[0;34m(\u001b[0m\u001b[0mkwargs\u001b[0m\u001b[0;34m,\u001b[0m \u001b[0mmlines\u001b[0m\u001b[0;34m.\u001b[0m\u001b[0mLine2D\u001b[0m\u001b[0;34m)\u001b[0m\u001b[0;34m\u001b[0m\u001b[0;34m\u001b[0m\u001b[0m\n\u001b[0;32m-> 1647\u001b[0;31m         \u001b[0mlines\u001b[0m \u001b[0;34m=\u001b[0m \u001b[0;34m[\u001b[0m\u001b[0;34m*\u001b[0m\u001b[0mself\u001b[0m\u001b[0;34m.\u001b[0m\u001b[0m_get_lines\u001b[0m\u001b[0;34m(\u001b[0m\u001b[0;34m*\u001b[0m\u001b[0margs\u001b[0m\u001b[0;34m,\u001b[0m \u001b[0mdata\u001b[0m\u001b[0;34m=\u001b[0m\u001b[0mdata\u001b[0m\u001b[0;34m,\u001b[0m \u001b[0;34m**\u001b[0m\u001b[0mkwargs\u001b[0m\u001b[0;34m)\u001b[0m\u001b[0;34m]\u001b[0m\u001b[0;34m\u001b[0m\u001b[0;34m\u001b[0m\u001b[0m\n\u001b[0m\u001b[1;32m   1648\u001b[0m         \u001b[0;32mfor\u001b[0m \u001b[0mline\u001b[0m \u001b[0;32min\u001b[0m \u001b[0mlines\u001b[0m\u001b[0;34m:\u001b[0m\u001b[0;34m\u001b[0m\u001b[0;34m\u001b[0m\u001b[0m\n\u001b[1;32m   1649\u001b[0m             \u001b[0mself\u001b[0m\u001b[0;34m.\u001b[0m\u001b[0madd_line\u001b[0m\u001b[0;34m(\u001b[0m\u001b[0mline\u001b[0m\u001b[0;34m)\u001b[0m\u001b[0;34m\u001b[0m\u001b[0;34m\u001b[0m\u001b[0m\n",
            "\u001b[0;32m/usr/local/lib/python3.7/dist-packages/matplotlib/axes/_base.py\u001b[0m in \u001b[0;36m__call__\u001b[0;34m(self, *args, **kwargs)\u001b[0m\n\u001b[1;32m    214\u001b[0m                 \u001b[0mthis\u001b[0m \u001b[0;34m+=\u001b[0m \u001b[0margs\u001b[0m\u001b[0;34m[\u001b[0m\u001b[0;36m0\u001b[0m\u001b[0;34m]\u001b[0m\u001b[0;34m,\u001b[0m\u001b[0;34m\u001b[0m\u001b[0;34m\u001b[0m\u001b[0m\n\u001b[1;32m    215\u001b[0m                 \u001b[0margs\u001b[0m \u001b[0;34m=\u001b[0m \u001b[0margs\u001b[0m\u001b[0;34m[\u001b[0m\u001b[0;36m1\u001b[0m\u001b[0;34m:\u001b[0m\u001b[0;34m]\u001b[0m\u001b[0;34m\u001b[0m\u001b[0;34m\u001b[0m\u001b[0m\n\u001b[0;32m--> 216\u001b[0;31m             \u001b[0;32myield\u001b[0m \u001b[0;32mfrom\u001b[0m \u001b[0mself\u001b[0m\u001b[0;34m.\u001b[0m\u001b[0m_plot_args\u001b[0m\u001b[0;34m(\u001b[0m\u001b[0mthis\u001b[0m\u001b[0;34m,\u001b[0m \u001b[0mkwargs\u001b[0m\u001b[0;34m)\u001b[0m\u001b[0;34m\u001b[0m\u001b[0;34m\u001b[0m\u001b[0m\n\u001b[0m\u001b[1;32m    217\u001b[0m \u001b[0;34m\u001b[0m\u001b[0m\n\u001b[1;32m    218\u001b[0m     \u001b[0;32mdef\u001b[0m \u001b[0mget_next_color\u001b[0m\u001b[0;34m(\u001b[0m\u001b[0mself\u001b[0m\u001b[0;34m)\u001b[0m\u001b[0;34m:\u001b[0m\u001b[0;34m\u001b[0m\u001b[0;34m\u001b[0m\u001b[0m\n",
            "\u001b[0;32m/usr/local/lib/python3.7/dist-packages/matplotlib/axes/_base.py\u001b[0m in \u001b[0;36m_plot_args\u001b[0;34m(self, tup, kwargs)\u001b[0m\n\u001b[1;32m    340\u001b[0m \u001b[0;34m\u001b[0m\u001b[0m\n\u001b[1;32m    341\u001b[0m         \u001b[0;32mif\u001b[0m \u001b[0mx\u001b[0m\u001b[0;34m.\u001b[0m\u001b[0mshape\u001b[0m\u001b[0;34m[\u001b[0m\u001b[0;36m0\u001b[0m\u001b[0;34m]\u001b[0m \u001b[0;34m!=\u001b[0m \u001b[0my\u001b[0m\u001b[0;34m.\u001b[0m\u001b[0mshape\u001b[0m\u001b[0;34m[\u001b[0m\u001b[0;36m0\u001b[0m\u001b[0;34m]\u001b[0m\u001b[0;34m:\u001b[0m\u001b[0;34m\u001b[0m\u001b[0;34m\u001b[0m\u001b[0m\n\u001b[0;32m--> 342\u001b[0;31m             raise ValueError(f\"x and y must have same first dimension, but \"\n\u001b[0m\u001b[1;32m    343\u001b[0m                              f\"have shapes {x.shape} and {y.shape}\")\n\u001b[1;32m    344\u001b[0m         \u001b[0;32mif\u001b[0m \u001b[0mx\u001b[0m\u001b[0;34m.\u001b[0m\u001b[0mndim\u001b[0m \u001b[0;34m>\u001b[0m \u001b[0;36m2\u001b[0m \u001b[0;32mor\u001b[0m \u001b[0my\u001b[0m\u001b[0;34m.\u001b[0m\u001b[0mndim\u001b[0m \u001b[0;34m>\u001b[0m \u001b[0;36m2\u001b[0m\u001b[0;34m:\u001b[0m\u001b[0;34m\u001b[0m\u001b[0;34m\u001b[0m\u001b[0m\n",
            "\u001b[0;31mValueError\u001b[0m: x and y must have same first dimension, but have shapes (1001,) and (1,)"
          ]
        },
        {
          "output_type": "display_data",
          "data": {
            "text/plain": [
              "<Figure size 1000x800 with 1 Axes>"
            ],
            "image/png": "[encoded data removed]"
          },
          "metadata": {
            "needs_background": "light"
          }
        }
      ]
    },
    {
      "cell_type": "code",
      "source": [
        "import numpy as np\n",
        "import sympy as sym\n",
        "import matplotlib.pyplot as plt"
      ],
      "metadata": {
        "id": "5pRs-HFC6uSX"
      },
      "execution_count": 2,
      "outputs": []
    },
    {
      "cell_type": "code",
      "source": [
        "x = [0,\t1,\t2,\t3,\t4,\t5,\t6,\t7,\t8,\t9]\n",
        "y = [67.052,\t68.008,\t69.803,\t72.024,\t73.4,\t72.063,\t74.669,\t74.487,\t74.065,\t76.777]\n",
        "plt.plot(x, y,'-')\n",
        "plt.show()"
      ],
      "metadata": {
        "colab": {
          "base_uri": "https://localhost:8080/",
          "height": 265
        },
        "id": "esUjONA56zFD",
        "outputId": "717c4409-fcd0-44e5-8684-c0cb4169cdbf"
      },
      "execution_count": null,
      "outputs": [
        {
          "output_type": "display_data",
          "data": {
            "text/plain": [
              "<Figure size 432x288 with 1 Axes>"
            ],
            "image/png": "[encoded data removed]"
          },
          "metadata": {
            "needs_background": "light"
          }
        }
      ]
    },
    {
      "cell_type": "code",
      "source": [
        "#Lineal\n",
        "x = np.array([0,\t1,\t2,\t3,\t4,\t5,\t6,\t7,\t8,\t9])\n",
        "y = np.array([67.052,\t68.008,\t69.803,\t72.024,\t73.4,\t72.063,\t74.669,\t74.487,\t74.065,\t76.777])\n",
        "sum_xi = np.sum(x)\n",
        "sum_xi_2 = np.sum(x**2)\n",
        "sum_yi = np.sum(y)\n",
        "sum_xiyi = np.sum(x*y)\n",
        "a = np.array([[sum_xi_2, sum_xi],\n",
        "              [sum_xi, len(x)]])\n",
        "b = np.array([sum_xiyi ,sum_yi])\n",
        "solve_lineal = np.linalg.solve(a, b)\n",
        "\n",
        "print(f'Regresión lineal: y = {solve_lineal[0]:.3f}x + {solve_lineal[1]:.3f}')\n",
        "f_lin = lambda x: solve_lineal[0]*x + solve_lineal[1]\n",
        "\n",
        "xi = np.linspace(np.min(x),np.max(x+7),1001)\n",
        "plt.plot(x, y,'o')\n",
        "plt.plot(xi, f_lin(xi),'-')\n",
        "plt.show()\n",
        "\n",
        "y_media = y.mean()\n",
        "y_predict = f_lin(x)\n",
        "s_t = ((y - y_media)**2).sum()\n",
        "s_r = ((y - y_predict)**2).sum()\n",
        "r_2_lin = (s_t - s_r) / s_t\n",
        "print(f'Coeficiente de determinación: {r_2_lin}')"
      ],
      "metadata": {
        "colab": {
          "base_uri": "https://localhost:8080/",
          "height": 302
        },
        "id": "2bslWLpl8e-a",
        "outputId": "710aaa69-f18a-47c2-b7b4-e722edd16cf6"
      },
      "execution_count": 7,
      "outputs": [
        {
          "output_type": "stream",
          "name": "stdout",
          "text": [
            "Regresión lineal: y = 0.969x + 67.873\n"
          ]
        },
        {
          "output_type": "display_data",
          "data": {
            "text/plain": [
              "<Figure size 432x288 with 1 Axes>"
            ],
            "image/png": "[encoded data removed]"
          },
          "metadata": {
            "needs_background": "light"
          }
        },
        {
          "output_type": "stream",
          "name": "stdout",
          "text": [
            "Coeficiente de determinación: 0.8905019357927557\n"
          ]
        }
      ]
    },
    {
      "cell_type": "code",
      "source": [
        "#cuadratica\n",
        "x = np.array([0,\t1,\t2,\t3,\t4,\t5,\t6,\t7,\t8,\t9])\n",
        "y = np.array([67.052,\t68.008,\t69.803,\t72.024,\t73.4,\t72.063,\t74.669,\t74.487,\t74.065,\t76.777])\n",
        "\n",
        "sum_xi = np.sum(x)\n",
        "sum_xi_2 = np.sum(x**2)\n",
        "sum_xi_3 = np.sum(x**3)\n",
        "sum_xi_4 = np.sum(x**4)\n",
        "sum_yi = np.sum(y)\n",
        "sum_xiyi = np.sum(x*y)\n",
        "sum_xi_2yi = np.sum(x**2*y)\n",
        "a = np.array([[sum_xi_4, sum_xi_3, sum_xi_2],\n",
        "              [sum_xi_3, sum_xi_2, sum_xi],\n",
        "              [sum_xi_2, sum_xi, len(x)]])\n",
        "b = np.array([sum_xi_2yi, sum_xiyi ,sum_yi])\n",
        "solve_cuad = np.linalg.solve(a, b)\n",
        "f_cuad = lambda x: solve_cuad[0]*x**2 + solve_cuad[1]*x + solve_cuad[2]\n",
        "print(f'Regresión cuadrática: y = {solve_cuad[0]:.3f}x^2 + {solve_cuad[1]:.3f}x + {solve_cuad[2]:.3f}')\n",
        "\n",
        "xi = np.linspace(np.min(x),np.max(x+7),1001)\n",
        "plt.plot(x, y,'o')\n",
        "plt.plot(xi, f_cuad(xi),'-')\n",
        "plt.show()\n",
        "\n",
        "y_media = y.mean()\n",
        "y_predict = f_cuad(x)\n",
        "s_t = ((y - y_media)**2).sum()\n",
        "s_r = ((y - y_predict)**2).sum()\n",
        "r_2_cuad = (s_t - s_r) / s_t\n",
        "print(f'Coeficiente de determinación: {r_2_cuad}')"
      ],
      "metadata": {
        "colab": {
          "base_uri": "https://localhost:8080/",
          "height": 300
        },
        "id": "8utG4R2h9pZk",
        "outputId": "b15a25f2-5e96-4bbf-b191-730e348616f5"
      },
      "execution_count": 8,
      "outputs": [
        {
          "output_type": "stream",
          "name": "stdout",
          "text": [
            "Regresión cuadrática: y = -0.072x^2 + 1.621x + 67.005\n"
          ]
        },
        {
          "output_type": "display_data",
          "data": {
            "text/plain": [
              "<Figure size 432x288 with 1 Axes>"
            ],
            "image/png": "[encoded data removed]"
          },
          "metadata": {
            "needs_background": "light"
          }
        },
        {
          "output_type": "stream",
          "name": "stdout",
          "text": [
            "Coeficiente de determinación: 0.9222532745110213\n"
          ]
        }
      ]
    },
    {
      "cell_type": "code",
      "source": [
        "#Exponencial\n",
        "x = np.array([0,\t1,\t2,\t3,\t4,\t5,\t6,\t7,\t8,\t9])\n",
        "y = np.array([67.052,\t68.008,\t69.803,\t72.024,\t73.4,\t72.063,\t74.669,\t74.487,\t74.065,\t76.777])\n",
        "Y = np.log(y)\n",
        "\n",
        "sum_xi = np.sum(x)\n",
        "sum_xi_2 = np.sum(x**2)\n",
        "sum_Yi = np.sum(Y)\n",
        "sum_xiYi = np.sum(x*Y)\n",
        "a = np.array([[sum_xi_2, sum_xi],\n",
        "              [sum_xi, len(x)]])\n",
        "b = np.array([sum_xiYi ,sum_Yi])\n",
        "solve_3 = np.linalg.solve(a, b)\n",
        "f_exp = lambda x: np.exp(solve_3[1]) * np.exp(solve_3[0]*x)\n",
        "a_0, a_1  = np.exp(solve_3[1]), solve_3[0]\n",
        "print(f'Regresión exponencial: Y = {a_0:.3f}*e^({a_1:.3f}*x)')\n",
        "\n",
        "xi = np.linspace(np.min(x),np.max(x+7),1001)\n",
        "plt.plot(x, y,'o')\n",
        "plt.plot(xi, f_exp(xi),'-')\n",
        "plt.show()\n",
        "\n",
        "y_media = y.mean()\n",
        "y_predict = f_exp(x)\n",
        "s_t = ((y - y_media)**2).sum()\n",
        "s_r = ((y - y_predict)**2).sum()\n",
        "r_2_exp = (s_t - s_r) / s_t\n",
        "print(f'Coeficiente de determinación: {r_2_exp}')"
      ],
      "metadata": {
        "colab": {
          "base_uri": "https://localhost:8080/",
          "height": 302
        },
        "id": "J36QST5r9_dJ",
        "outputId": "268b4968-1b4d-4331-df36-a38516df3dd4"
      },
      "execution_count": 6,
      "outputs": [
        {
          "output_type": "stream",
          "name": "stdout",
          "text": [
            "Regresión exponencial: Y = 67.914*e^(0.014*x)\n"
          ]
        },
        {
          "output_type": "display_data",
          "data": {
            "text/plain": [
              "<Figure size 432x288 with 1 Axes>"
            ],
            "image/png": "[encoded data removed]"
          },
          "metadata": {
            "needs_background": "light"
          }
        },
        {
          "output_type": "stream",
          "name": "stdout",
          "text": [
            "Coeficiente de determinación: 0.8844365628448531\n"
          ]
        }
      ]
    },
    {
      "cell_type": "code",
      "source": [
        "print(f'Coeficiente de determinación\\n'\n",
        "      f'- lineal: {r_2_lin:.5f}\\n'\n",
        "      f'- cuadratico: {r_2_cuad:.5f}\\n'\n",
        "      f'- exponenncial: {r_2_exp:.5f}')"
      ],
      "metadata": {
        "colab": {
          "base_uri": "https://localhost:8080/"
        },
        "id": "fG1K-LKQCh8n",
        "outputId": "cb41ae0b-c66d-42ae-be98-b1782fbf0ae6"
      },
      "execution_count": null,
      "outputs": [
        {
          "output_type": "stream",
          "name": "stdout",
          "text": [
            "Coeficiente de determinación\n",
            "- lineal: 0.89050\n",
            "- cuadratico: 0.92225\n",
            "- exponenncial: 0.88444\n"
          ]
        }
      ]
    },
    {
      "cell_type": "code",
      "source": [
        "xi = np.linspace(np.min(x),np.max(x+7),1001)\n",
        "plt.plot(x, y,'o')\n",
        "plt.plot(xi, f_lin(xi),'b')\n",
        "plt.plot(xi, f_cuad(xi),'-')\n",
        "plt.plot(xi, f_exp(xi),'y')\n",
        "\n",
        "zero = 74.4* np.ones(1001)\n",
        "\n",
        "plt.plot(xi, zero,'b-')\n",
        "z = 83.38* np.ones(1001)\n",
        "\n",
        "plt.plot(xi, z,'-')\n",
        "w = 84.3* np.ones(1001)\n",
        "\n",
        "plt.plot(xi, w,'y-')"
      ],
      "metadata": {
        "colab": {
          "base_uri": "https://localhost:8080/",
          "height": 284
        },
        "id": "k9RbWgkhCqlc",
        "outputId": "9becf51b-49d3-4d5d-d817-d8bd333f69b7"
      },
      "execution_count": 19,
      "outputs": [
        {
          "output_type": "execute_result",
          "data": {
            "text/plain": [
              "[<matplotlib.lines.Line2D at 0x7f23680f3a10>]"
            ]
          },
          "metadata": {},
          "execution_count": 19
        },
        {
          "output_type": "display_data",
          "data": {
            "text/plain": [
              "<Figure size 432x288 with 1 Axes>"
            ],
            "image/png": "[encoded data removed]"
          },
          "metadata": {
            "needs_background": "light"
          }
        }
      ]
    }
  ],
  "metadata": {
    "kernelspec": {
      "display_name": "Python 3",
      "language": "python",
      "name": "python3"
    },
    "language_info": {
      "codemirror_mode": {
        "name": "ipython",
        "version": 2
      },
      "file_extension": ".py",
      "mimetype": "text/x-python",
      "name": "python",
      "nbconvert_exporter": "python",
      "pygments_lexer": "ipython2",
      "version": "2.7.6"
    },
    "colab": {
      "provenance": [],
      "collapsed_sections": [
        "cP9bRQ0_cZRV",
        "jp_s4w9icZRW",
        "DMwQPLPqcZRZ",
        "_9jLyJDNcZRZ",
        "E9kiy8jJcZRa",
        "EcIvZ0TecZRb",
        "C8WeE8eccZRc",
        "iqsITtTJcZRc",
        "OicVJQzocZRd"
      ],
      "include_colab_link": true
    }
  },
  "nbformat": 4,
  "nbformat_minor": 0
}